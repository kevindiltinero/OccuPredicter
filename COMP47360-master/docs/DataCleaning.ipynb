{
 "cells": [
  {
   "cell_type": "markdown",
   "metadata": {},
   "source": [
    "# Data Cleaning"
   ]
  },
  {
   "cell_type": "markdown",
   "metadata": {},
   "source": [
    "### WiFi Log Data"
   ]
  },
  {
   "cell_type": "code",
   "execution_count": 1,
   "metadata": {
    "collapsed": false,
    "scrolled": true
   },
   "outputs": [
    {
     "data": {
      "text/html": [
       "<div>\n",
       "<table border=\"1\" class=\"dataframe\">\n",
       "  <thead>\n",
       "    <tr style=\"text-align: right;\">\n",
       "      <th></th>\n",
       "      <th>Unnamed: 0</th>\n",
       "      <th>Room</th>\n",
       "      <th>Timestamp</th>\n",
       "      <th>Assoc</th>\n",
       "      <th>Auth</th>\n",
       "    </tr>\n",
       "  </thead>\n",
       "  <tbody>\n",
       "    <tr>\n",
       "      <th>0</th>\n",
       "      <td>21</td>\n",
       "      <td>B003</td>\n",
       "      <td>1447101189</td>\n",
       "      <td>0</td>\n",
       "      <td>0</td>\n",
       "    </tr>\n",
       "    <tr>\n",
       "      <th>1</th>\n",
       "      <td>22</td>\n",
       "      <td>B003</td>\n",
       "      <td>1447101491</td>\n",
       "      <td>0</td>\n",
       "      <td>0</td>\n",
       "    </tr>\n",
       "    <tr>\n",
       "      <th>2</th>\n",
       "      <td>23</td>\n",
       "      <td>B003</td>\n",
       "      <td>1447101786</td>\n",
       "      <td>0</td>\n",
       "      <td>0</td>\n",
       "    </tr>\n",
       "    <tr>\n",
       "      <th>3</th>\n",
       "      <td>24</td>\n",
       "      <td>B003</td>\n",
       "      <td>1447102095</td>\n",
       "      <td>0</td>\n",
       "      <td>0</td>\n",
       "    </tr>\n",
       "    <tr>\n",
       "      <th>4</th>\n",
       "      <td>25</td>\n",
       "      <td>B003</td>\n",
       "      <td>1447102392</td>\n",
       "      <td>0</td>\n",
       "      <td>0</td>\n",
       "    </tr>\n",
       "  </tbody>\n",
       "</table>\n",
       "</div>"
      ],
      "text/plain": [
       "   Unnamed: 0  Room   Timestamp  Assoc  Auth\n",
       "0          21  B003  1447101189      0     0\n",
       "1          22  B003  1447101491      0     0\n",
       "2          23  B003  1447101786      0     0\n",
       "3          24  B003  1447102095      0     0\n",
       "4          25  B003  1447102392      0     0"
      ]
     },
     "execution_count": 1,
     "metadata": {},
     "output_type": "execute_result"
    }
   ],
   "source": [
    "import pandas as pd\n",
    "# Import package numpy for numeric computing\n",
    "import numpy as np\n",
    "# Import package matplotlib for visualisation/plotting\n",
    "import matplotlib.pyplot as plt\n",
    "\n",
    "# Reading from a csv file, into a data frame\n",
    "wifi_data = pd.read_csv(\"wifi_data.csv\")\n",
    "\n",
    "# Show first 5 rows of data frame\n",
    "wifi_data.head()\n"
   ]
  },
  {
   "cell_type": "code",
   "execution_count": 2,
   "metadata": {
    "collapsed": false
   },
   "outputs": [
    {
     "data": {
      "text/html": [
       "<div>\n",
       "<table border=\"1\" class=\"dataframe\">\n",
       "  <thead>\n",
       "    <tr style=\"text-align: right;\">\n",
       "      <th></th>\n",
       "      <th>Unnamed: 0</th>\n",
       "      <th>Room</th>\n",
       "      <th>Timestamp</th>\n",
       "      <th>Assoc</th>\n",
       "      <th>Auth</th>\n",
       "    </tr>\n",
       "  </thead>\n",
       "  <tbody>\n",
       "    <tr>\n",
       "      <th>0</th>\n",
       "      <td>21</td>\n",
       "      <td>B003</td>\n",
       "      <td>1447101189</td>\n",
       "      <td>0</td>\n",
       "      <td>0</td>\n",
       "    </tr>\n",
       "    <tr>\n",
       "      <th>1</th>\n",
       "      <td>22</td>\n",
       "      <td>B003</td>\n",
       "      <td>1447101491</td>\n",
       "      <td>0</td>\n",
       "      <td>0</td>\n",
       "    </tr>\n",
       "    <tr>\n",
       "      <th>2</th>\n",
       "      <td>23</td>\n",
       "      <td>B003</td>\n",
       "      <td>1447101786</td>\n",
       "      <td>0</td>\n",
       "      <td>0</td>\n",
       "    </tr>\n",
       "    <tr>\n",
       "      <th>3</th>\n",
       "      <td>24</td>\n",
       "      <td>B003</td>\n",
       "      <td>1447102095</td>\n",
       "      <td>0</td>\n",
       "      <td>0</td>\n",
       "    </tr>\n",
       "    <tr>\n",
       "      <th>4</th>\n",
       "      <td>25</td>\n",
       "      <td>B003</td>\n",
       "      <td>1447102392</td>\n",
       "      <td>0</td>\n",
       "      <td>0</td>\n",
       "    </tr>\n",
       "  </tbody>\n",
       "</table>\n",
       "</div>"
      ],
      "text/plain": [
       "   Unnamed: 0  Room   Timestamp  Assoc  Auth\n",
       "0          21  B003  1447101189      0     0\n",
       "1          22  B003  1447101491      0     0\n",
       "2          23  B003  1447101786      0     0\n",
       "3          24  B003  1447102095      0     0\n",
       "4          25  B003  1447102392      0     0"
      ]
     },
     "execution_count": 2,
     "metadata": {},
     "output_type": "execute_result"
    }
   ],
   "source": [
    "wifi_data.head()"
   ]
  },
  {
   "cell_type": "code",
   "execution_count": 3,
   "metadata": {
    "collapsed": false
   },
   "outputs": [
    {
     "data": {
      "text/html": [
       "<div>\n",
       "<table border=\"1\" class=\"dataframe\">\n",
       "  <thead>\n",
       "    <tr style=\"text-align: right;\">\n",
       "      <th></th>\n",
       "      <th>Room</th>\n",
       "      <th>Timestamp</th>\n",
       "      <th>Assoc</th>\n",
       "      <th>Auth</th>\n",
       "    </tr>\n",
       "  </thead>\n",
       "  <tbody>\n",
       "    <tr>\n",
       "      <th>0</th>\n",
       "      <td>B003</td>\n",
       "      <td>1447101189</td>\n",
       "      <td>0</td>\n",
       "      <td>0</td>\n",
       "    </tr>\n",
       "    <tr>\n",
       "      <th>1</th>\n",
       "      <td>B003</td>\n",
       "      <td>1447101491</td>\n",
       "      <td>0</td>\n",
       "      <td>0</td>\n",
       "    </tr>\n",
       "    <tr>\n",
       "      <th>2</th>\n",
       "      <td>B003</td>\n",
       "      <td>1447101786</td>\n",
       "      <td>0</td>\n",
       "      <td>0</td>\n",
       "    </tr>\n",
       "    <tr>\n",
       "      <th>3</th>\n",
       "      <td>B003</td>\n",
       "      <td>1447102095</td>\n",
       "      <td>0</td>\n",
       "      <td>0</td>\n",
       "    </tr>\n",
       "    <tr>\n",
       "      <th>4</th>\n",
       "      <td>B003</td>\n",
       "      <td>1447102392</td>\n",
       "      <td>0</td>\n",
       "      <td>0</td>\n",
       "    </tr>\n",
       "  </tbody>\n",
       "</table>\n",
       "</div>"
      ],
      "text/plain": [
       "   Room   Timestamp  Assoc  Auth\n",
       "0  B003  1447101189      0     0\n",
       "1  B003  1447101491      0     0\n",
       "2  B003  1447101786      0     0\n",
       "3  B003  1447102095      0     0\n",
       "4  B003  1447102392      0     0"
      ]
     },
     "execution_count": 3,
     "metadata": {},
     "output_type": "execute_result"
    }
   ],
   "source": [
    "#dropping first column Unamed:0 as we don't need that column in our analysis\n",
    "wifi_data.drop(wifi_data.columns[[0]], axis=1, inplace=True)\n",
    "wifi_data.head()"
   ]
  },
  {
   "cell_type": "code",
   "execution_count": 4,
   "metadata": {
    "collapsed": false
   },
   "outputs": [
    {
     "data": {
      "text/plain": [
       "(12417, 4)"
      ]
     },
     "execution_count": 4,
     "metadata": {},
     "output_type": "execute_result"
    }
   ],
   "source": [
    "wifi_data.shape"
   ]
  },
  {
   "cell_type": "code",
   "execution_count": 5,
   "metadata": {
    "collapsed": false
   },
   "outputs": [
    {
     "data": {
      "text/plain": [
       "Room         0\n",
       "Timestamp    0\n",
       "Assoc        0\n",
       "Auth         0\n",
       "dtype: int64"
      ]
     },
     "execution_count": 5,
     "metadata": {},
     "output_type": "execute_result"
    }
   ],
   "source": [
    "#checking the number of data with NaN\n",
    "wifi_data.isnull().sum()"
   ]
  },
  {
   "cell_type": "code",
   "execution_count": 6,
   "metadata": {
    "collapsed": false
   },
   "outputs": [
    {
     "data": {
      "text/plain": [
       "0"
      ]
     },
     "execution_count": 6,
     "metadata": {},
     "output_type": "execute_result"
    }
   ],
   "source": [
    "#checking for duplicates\n",
    "wifi_data.duplicated().sum()"
   ]
  },
  {
   "cell_type": "markdown",
   "metadata": {},
   "source": [
    "#### Split column Timestamp data into Weekday, Date and Time columns"
   ]
  },
  {
   "cell_type": "code",
   "execution_count": 7,
   "metadata": {
    "collapsed": false
   },
   "outputs": [],
   "source": [
    "\n",
    "from datetime import datetime\n",
    "format_timestamp = lambda x:datetime.fromtimestamp(int(x))\n",
    "\n",
    "wifi_data['Timestamp'] = wifi_data['Timestamp'].map(format_timestamp)"
   ]
  },
  {
   "cell_type": "code",
   "execution_count": 8,
   "metadata": {
    "collapsed": false
   },
   "outputs": [
    {
     "data": {
      "text/html": [
       "<div>\n",
       "<table border=\"1\" class=\"dataframe\">\n",
       "  <thead>\n",
       "    <tr style=\"text-align: right;\">\n",
       "      <th></th>\n",
       "      <th>Room</th>\n",
       "      <th>Timestamp</th>\n",
       "      <th>Assoc</th>\n",
       "      <th>Auth</th>\n",
       "    </tr>\n",
       "  </thead>\n",
       "  <tbody>\n",
       "    <tr>\n",
       "      <th>0</th>\n",
       "      <td>B003</td>\n",
       "      <td>2015-11-09 20:33:09</td>\n",
       "      <td>0</td>\n",
       "      <td>0</td>\n",
       "    </tr>\n",
       "    <tr>\n",
       "      <th>1</th>\n",
       "      <td>B003</td>\n",
       "      <td>2015-11-09 20:38:11</td>\n",
       "      <td>0</td>\n",
       "      <td>0</td>\n",
       "    </tr>\n",
       "    <tr>\n",
       "      <th>2</th>\n",
       "      <td>B003</td>\n",
       "      <td>2015-11-09 20:43:06</td>\n",
       "      <td>0</td>\n",
       "      <td>0</td>\n",
       "    </tr>\n",
       "    <tr>\n",
       "      <th>3</th>\n",
       "      <td>B003</td>\n",
       "      <td>2015-11-09 20:48:15</td>\n",
       "      <td>0</td>\n",
       "      <td>0</td>\n",
       "    </tr>\n",
       "    <tr>\n",
       "      <th>4</th>\n",
       "      <td>B003</td>\n",
       "      <td>2015-11-09 20:53:12</td>\n",
       "      <td>0</td>\n",
       "      <td>0</td>\n",
       "    </tr>\n",
       "  </tbody>\n",
       "</table>\n",
       "</div>"
      ],
      "text/plain": [
       "   Room           Timestamp  Assoc  Auth\n",
       "0  B003 2015-11-09 20:33:09      0     0\n",
       "1  B003 2015-11-09 20:38:11      0     0\n",
       "2  B003 2015-11-09 20:43:06      0     0\n",
       "3  B003 2015-11-09 20:48:15      0     0\n",
       "4  B003 2015-11-09 20:53:12      0     0"
      ]
     },
     "execution_count": 8,
     "metadata": {},
     "output_type": "execute_result"
    }
   ],
   "source": [
    "wifi_data.head()"
   ]
  },
  {
   "cell_type": "code",
   "execution_count": 9,
   "metadata": {
    "collapsed": false
   },
   "outputs": [],
   "source": [
    "#iterate through all rows and split column time for three different values\n",
    "weekdays, dates, times = [], [], []\n",
    "for timestamp in wifi_data['Timestamp']:\n",
    "    weekdays.append(timestamp.weekday())\n",
    "    dates.append(timestamp.strftime(\"%Y-%m-%d\"))\n",
    "    times.append(timestamp.strftime(\"%H:%M:%S\"))"
   ]
  },
  {
   "cell_type": "code",
   "execution_count": 10,
   "metadata": {
    "collapsed": false
   },
   "outputs": [],
   "source": [
    "wifi_data['Weekday'] = weekdays\n",
    "wifi_data['Date'] = dates\n",
    "wifi_data['Time'] = times"
   ]
  },
  {
   "cell_type": "code",
   "execution_count": 11,
   "metadata": {
    "collapsed": true
   },
   "outputs": [],
   "source": [
    "#Mapping weekday number to name\n",
    "import calendar\n",
    "format_weekday = lambda x:calendar.day_name[x]\n",
    "\n",
    "wifi_data['Weekday'] = wifi_data['Weekday'].map(format_weekday)"
   ]
  },
  {
   "cell_type": "code",
   "execution_count": 12,
   "metadata": {
    "collapsed": false
   },
   "outputs": [
    {
     "data": {
      "text/html": [
       "<div>\n",
       "<table border=\"1\" class=\"dataframe\">\n",
       "  <thead>\n",
       "    <tr style=\"text-align: right;\">\n",
       "      <th></th>\n",
       "      <th>Room</th>\n",
       "      <th>Timestamp</th>\n",
       "      <th>Assoc</th>\n",
       "      <th>Auth</th>\n",
       "      <th>Weekday</th>\n",
       "      <th>Date</th>\n",
       "      <th>Time</th>\n",
       "    </tr>\n",
       "  </thead>\n",
       "  <tbody>\n",
       "    <tr>\n",
       "      <th>0</th>\n",
       "      <td>B003</td>\n",
       "      <td>2015-11-09 20:33:09</td>\n",
       "      <td>0</td>\n",
       "      <td>0</td>\n",
       "      <td>Monday</td>\n",
       "      <td>2015-11-09</td>\n",
       "      <td>20:33:09</td>\n",
       "    </tr>\n",
       "    <tr>\n",
       "      <th>1</th>\n",
       "      <td>B003</td>\n",
       "      <td>2015-11-09 20:38:11</td>\n",
       "      <td>0</td>\n",
       "      <td>0</td>\n",
       "      <td>Monday</td>\n",
       "      <td>2015-11-09</td>\n",
       "      <td>20:38:11</td>\n",
       "    </tr>\n",
       "    <tr>\n",
       "      <th>2</th>\n",
       "      <td>B003</td>\n",
       "      <td>2015-11-09 20:43:06</td>\n",
       "      <td>0</td>\n",
       "      <td>0</td>\n",
       "      <td>Monday</td>\n",
       "      <td>2015-11-09</td>\n",
       "      <td>20:43:06</td>\n",
       "    </tr>\n",
       "    <tr>\n",
       "      <th>3</th>\n",
       "      <td>B003</td>\n",
       "      <td>2015-11-09 20:48:15</td>\n",
       "      <td>0</td>\n",
       "      <td>0</td>\n",
       "      <td>Monday</td>\n",
       "      <td>2015-11-09</td>\n",
       "      <td>20:48:15</td>\n",
       "    </tr>\n",
       "    <tr>\n",
       "      <th>4</th>\n",
       "      <td>B003</td>\n",
       "      <td>2015-11-09 20:53:12</td>\n",
       "      <td>0</td>\n",
       "      <td>0</td>\n",
       "      <td>Monday</td>\n",
       "      <td>2015-11-09</td>\n",
       "      <td>20:53:12</td>\n",
       "    </tr>\n",
       "  </tbody>\n",
       "</table>\n",
       "</div>"
      ],
      "text/plain": [
       "   Room           Timestamp  Assoc  Auth Weekday        Date      Time\n",
       "0  B003 2015-11-09 20:33:09      0     0  Monday  2015-11-09  20:33:09\n",
       "1  B003 2015-11-09 20:38:11      0     0  Monday  2015-11-09  20:38:11\n",
       "2  B003 2015-11-09 20:43:06      0     0  Monday  2015-11-09  20:43:06\n",
       "3  B003 2015-11-09 20:48:15      0     0  Monday  2015-11-09  20:48:15\n",
       "4  B003 2015-11-09 20:53:12      0     0  Monday  2015-11-09  20:53:12"
      ]
     },
     "execution_count": 12,
     "metadata": {},
     "output_type": "execute_result"
    }
   ],
   "source": [
    "wifi_data.head()"
   ]
  },
  {
   "cell_type": "markdown",
   "metadata": {},
   "source": [
    "#### Removing all data from Saturday and Sunday"
   ]
  },
  {
   "cell_type": "code",
   "execution_count": 13,
   "metadata": {
    "collapsed": true
   },
   "outputs": [],
   "source": [
    "wifi_data = wifi_data[(wifi_data['Weekday'] != 'Saturday') & (wifi_data['Weekday'] != 'Sunday')]"
   ]
  },
  {
   "cell_type": "markdown",
   "metadata": {},
   "source": [
    "#### Filtering data between time 9:00 and 17:00 of each day"
   ]
  },
  {
   "cell_type": "code",
   "execution_count": 14,
   "metadata": {
    "collapsed": true
   },
   "outputs": [],
   "source": [
    "wifi_data = wifi_data.set_index('Timestamp')\n",
    "wifi_data = wifi_data.between_time('09:00','17:00')"
   ]
  },
  {
   "cell_type": "markdown",
   "metadata": {},
   "source": [
    "#### Selecting max value of Associated for each column"
   ]
  },
  {
   "cell_type": "code",
   "execution_count": 15,
   "metadata": {
    "collapsed": true
   },
   "outputs": [],
   "source": [
    "hours = [\"{}:00\".format(hour) for hour in range(9, 18)]  #we get list: ['9:00', '10:00', ..., '16:00']"
   ]
  },
  {
   "cell_type": "code",
   "execution_count": 16,
   "metadata": {
    "collapsed": false
   },
   "outputs": [],
   "source": [
    "output_data = pd.DataFrame(columns=wifi_data.columns)  #creating empty output table based on input table\n",
    "\n",
    "for room in wifi_data['Room'].unique():  # for each room\n",
    "    room_data = wifi_data[wifi_data['Room'] == room]  \n",
    "    for date in room_data['Date'].unique():  # for each date\n",
    "        date_wifi_data = room_data[room_data['Date'] == date]  \n",
    "        \n",
    "        for index in range(len(hours)-1):  # for each range of hour\n",
    "            time_data = date_wifi_data.between_time(hours[index], hours[index+1])  \n",
    "            if time_data[\"Assoc\"].count():  \n",
    "                max_value = time_data[\"Assoc\"].max()  # choosing the max Assoc from selected data\n",
    "                max_time_data = time_data[time_data[\"Assoc\"] == max_value].iloc[0]  \n",
    "                output_data = output_data.append(max_time_data)  "
   ]
  },
  {
   "cell_type": "code",
   "execution_count": 17,
   "metadata": {
    "collapsed": false
   },
   "outputs": [],
   "source": [
    "#changing hour to format in range 9:00 - 10:00, 10:00-11:00 etc\n",
    "def format_timerange(x):\n",
    "    hour = int(x.split(':')[0])  \n",
    "    return \"{}:00-{}:00\".format(str(hour).zfill(2), str(hour+1).zfill(2))  # zfill adding extra zero to the hour\n",
    " \n",
    "output_data['Time'] = output_data ['Time'].map(format_timerange)"
   ]
  },
  {
   "cell_type": "code",
   "execution_count": 18,
   "metadata": {
    "collapsed": false
   },
   "outputs": [
    {
     "data": {
      "text/html": [
       "<div>\n",
       "<table border=\"1\" class=\"dataframe\">\n",
       "  <thead>\n",
       "    <tr style=\"text-align: right;\">\n",
       "      <th></th>\n",
       "      <th>Room</th>\n",
       "      <th>Assoc</th>\n",
       "      <th>Auth</th>\n",
       "      <th>Weekday</th>\n",
       "      <th>Date</th>\n",
       "      <th>Time</th>\n",
       "    </tr>\n",
       "  </thead>\n",
       "  <tbody>\n",
       "    <tr>\n",
       "      <th>2015-11-13 09:42:13</th>\n",
       "      <td>B002</td>\n",
       "      <td>9</td>\n",
       "      <td>9</td>\n",
       "      <td>Friday</td>\n",
       "      <td>2015-11-13</td>\n",
       "      <td>09:00-10:00</td>\n",
       "    </tr>\n",
       "    <tr>\n",
       "      <th>2015-11-13 10:54:19</th>\n",
       "      <td>B002</td>\n",
       "      <td>17</td>\n",
       "      <td>17</td>\n",
       "      <td>Friday</td>\n",
       "      <td>2015-11-13</td>\n",
       "      <td>10:00-11:00</td>\n",
       "    </tr>\n",
       "    <tr>\n",
       "      <th>2015-11-13 11:05:01</th>\n",
       "      <td>B002</td>\n",
       "      <td>19</td>\n",
       "      <td>19</td>\n",
       "      <td>Friday</td>\n",
       "      <td>2015-11-13</td>\n",
       "      <td>11:00-12:00</td>\n",
       "    </tr>\n",
       "    <tr>\n",
       "      <th>2015-11-13 12:40:15</th>\n",
       "      <td>B002</td>\n",
       "      <td>20</td>\n",
       "      <td>20</td>\n",
       "      <td>Friday</td>\n",
       "      <td>2015-11-13</td>\n",
       "      <td>12:00-13:00</td>\n",
       "    </tr>\n",
       "    <tr>\n",
       "      <th>2015-11-13 13:35:58</th>\n",
       "      <td>B002</td>\n",
       "      <td>16</td>\n",
       "      <td>16</td>\n",
       "      <td>Friday</td>\n",
       "      <td>2015-11-13</td>\n",
       "      <td>13:00-14:00</td>\n",
       "    </tr>\n",
       "    <tr>\n",
       "      <th>2015-11-13 14:16:18</th>\n",
       "      <td>B002</td>\n",
       "      <td>20</td>\n",
       "      <td>19</td>\n",
       "      <td>Friday</td>\n",
       "      <td>2015-11-13</td>\n",
       "      <td>14:00-15:00</td>\n",
       "    </tr>\n",
       "    <tr>\n",
       "      <th>2015-11-13 15:07:01</th>\n",
       "      <td>B002</td>\n",
       "      <td>21</td>\n",
       "      <td>21</td>\n",
       "      <td>Friday</td>\n",
       "      <td>2015-11-13</td>\n",
       "      <td>15:00-16:00</td>\n",
       "    </tr>\n",
       "    <tr>\n",
       "      <th>2015-11-13 16:07:19</th>\n",
       "      <td>B002</td>\n",
       "      <td>11</td>\n",
       "      <td>11</td>\n",
       "      <td>Friday</td>\n",
       "      <td>2015-11-13</td>\n",
       "      <td>16:00-17:00</td>\n",
       "    </tr>\n",
       "    <tr>\n",
       "      <th>2015-11-03 09:58:34</th>\n",
       "      <td>B002</td>\n",
       "      <td>21</td>\n",
       "      <td>21</td>\n",
       "      <td>Tuesday</td>\n",
       "      <td>2015-11-03</td>\n",
       "      <td>09:00-10:00</td>\n",
       "    </tr>\n",
       "    <tr>\n",
       "      <th>2015-11-03 10:54:35</th>\n",
       "      <td>B002</td>\n",
       "      <td>32</td>\n",
       "      <td>32</td>\n",
       "      <td>Tuesday</td>\n",
       "      <td>2015-11-03</td>\n",
       "      <td>10:00-11:00</td>\n",
       "    </tr>\n",
       "    <tr>\n",
       "      <th>2015-11-03 11:50:25</th>\n",
       "      <td>B002</td>\n",
       "      <td>36</td>\n",
       "      <td>36</td>\n",
       "      <td>Tuesday</td>\n",
       "      <td>2015-11-03</td>\n",
       "      <td>11:00-12:00</td>\n",
       "    </tr>\n",
       "    <tr>\n",
       "      <th>2015-11-03 12:01:23</th>\n",
       "      <td>B002</td>\n",
       "      <td>31</td>\n",
       "      <td>31</td>\n",
       "      <td>Tuesday</td>\n",
       "      <td>2015-11-03</td>\n",
       "      <td>12:00-13:00</td>\n",
       "    </tr>\n",
       "    <tr>\n",
       "      <th>2015-11-03 13:53:30</th>\n",
       "      <td>B002</td>\n",
       "      <td>29</td>\n",
       "      <td>29</td>\n",
       "      <td>Tuesday</td>\n",
       "      <td>2015-11-03</td>\n",
       "      <td>13:00-14:00</td>\n",
       "    </tr>\n",
       "    <tr>\n",
       "      <th>2015-11-03 14:54:50</th>\n",
       "      <td>B002</td>\n",
       "      <td>51</td>\n",
       "      <td>50</td>\n",
       "      <td>Tuesday</td>\n",
       "      <td>2015-11-03</td>\n",
       "      <td>14:00-15:00</td>\n",
       "    </tr>\n",
       "    <tr>\n",
       "      <th>2015-11-03 15:00:19</th>\n",
       "      <td>B002</td>\n",
       "      <td>58</td>\n",
       "      <td>56</td>\n",
       "      <td>Tuesday</td>\n",
       "      <td>2015-11-03</td>\n",
       "      <td>15:00-16:00</td>\n",
       "    </tr>\n",
       "    <tr>\n",
       "      <th>2015-11-03 16:25:26</th>\n",
       "      <td>B002</td>\n",
       "      <td>41</td>\n",
       "      <td>40</td>\n",
       "      <td>Tuesday</td>\n",
       "      <td>2015-11-03</td>\n",
       "      <td>16:00-17:00</td>\n",
       "    </tr>\n",
       "    <tr>\n",
       "      <th>2015-11-06 09:31:04</th>\n",
       "      <td>B002</td>\n",
       "      <td>3</td>\n",
       "      <td>3</td>\n",
       "      <td>Friday</td>\n",
       "      <td>2015-11-06</td>\n",
       "      <td>09:00-10:00</td>\n",
       "    </tr>\n",
       "    <tr>\n",
       "      <th>2015-11-06 10:58:23</th>\n",
       "      <td>B002</td>\n",
       "      <td>16</td>\n",
       "      <td>16</td>\n",
       "      <td>Friday</td>\n",
       "      <td>2015-11-06</td>\n",
       "      <td>10:00-11:00</td>\n",
       "    </tr>\n",
       "    <tr>\n",
       "      <th>2015-11-06 11:58:53</th>\n",
       "      <td>B002</td>\n",
       "      <td>23</td>\n",
       "      <td>23</td>\n",
       "      <td>Friday</td>\n",
       "      <td>2015-11-06</td>\n",
       "      <td>11:00-12:00</td>\n",
       "    </tr>\n",
       "    <tr>\n",
       "      <th>2015-11-06 12:04:24</th>\n",
       "      <td>B002</td>\n",
       "      <td>18</td>\n",
       "      <td>18</td>\n",
       "      <td>Friday</td>\n",
       "      <td>2015-11-06</td>\n",
       "      <td>12:00-13:00</td>\n",
       "    </tr>\n",
       "    <tr>\n",
       "      <th>2015-11-06 13:55:18</th>\n",
       "      <td>B002</td>\n",
       "      <td>19</td>\n",
       "      <td>19</td>\n",
       "      <td>Friday</td>\n",
       "      <td>2015-11-06</td>\n",
       "      <td>13:00-14:00</td>\n",
       "    </tr>\n",
       "    <tr>\n",
       "      <th>2015-11-06 14:30:21</th>\n",
       "      <td>B002</td>\n",
       "      <td>36</td>\n",
       "      <td>35</td>\n",
       "      <td>Friday</td>\n",
       "      <td>2015-11-06</td>\n",
       "      <td>14:00-15:00</td>\n",
       "    </tr>\n",
       "    <tr>\n",
       "      <th>2015-11-06 15:06:00</th>\n",
       "      <td>B002</td>\n",
       "      <td>46</td>\n",
       "      <td>45</td>\n",
       "      <td>Friday</td>\n",
       "      <td>2015-11-06</td>\n",
       "      <td>15:00-16:00</td>\n",
       "    </tr>\n",
       "    <tr>\n",
       "      <th>2015-11-06 16:01:17</th>\n",
       "      <td>B002</td>\n",
       "      <td>25</td>\n",
       "      <td>24</td>\n",
       "      <td>Friday</td>\n",
       "      <td>2015-11-06</td>\n",
       "      <td>16:00-17:00</td>\n",
       "    </tr>\n",
       "    <tr>\n",
       "      <th>2015-11-16 09:59:51</th>\n",
       "      <td>B002</td>\n",
       "      <td>7</td>\n",
       "      <td>7</td>\n",
       "      <td>Monday</td>\n",
       "      <td>2015-11-16</td>\n",
       "      <td>09:00-10:00</td>\n",
       "    </tr>\n",
       "  </tbody>\n",
       "</table>\n",
       "</div>"
      ],
      "text/plain": [
       "                     Room  Assoc  Auth  Weekday        Date         Time\n",
       "2015-11-13 09:42:13  B002      9     9   Friday  2015-11-13  09:00-10:00\n",
       "2015-11-13 10:54:19  B002     17    17   Friday  2015-11-13  10:00-11:00\n",
       "2015-11-13 11:05:01  B002     19    19   Friday  2015-11-13  11:00-12:00\n",
       "2015-11-13 12:40:15  B002     20    20   Friday  2015-11-13  12:00-13:00\n",
       "2015-11-13 13:35:58  B002     16    16   Friday  2015-11-13  13:00-14:00\n",
       "2015-11-13 14:16:18  B002     20    19   Friday  2015-11-13  14:00-15:00\n",
       "2015-11-13 15:07:01  B002     21    21   Friday  2015-11-13  15:00-16:00\n",
       "2015-11-13 16:07:19  B002     11    11   Friday  2015-11-13  16:00-17:00\n",
       "2015-11-03 09:58:34  B002     21    21  Tuesday  2015-11-03  09:00-10:00\n",
       "2015-11-03 10:54:35  B002     32    32  Tuesday  2015-11-03  10:00-11:00\n",
       "2015-11-03 11:50:25  B002     36    36  Tuesday  2015-11-03  11:00-12:00\n",
       "2015-11-03 12:01:23  B002     31    31  Tuesday  2015-11-03  12:00-13:00\n",
       "2015-11-03 13:53:30  B002     29    29  Tuesday  2015-11-03  13:00-14:00\n",
       "2015-11-03 14:54:50  B002     51    50  Tuesday  2015-11-03  14:00-15:00\n",
       "2015-11-03 15:00:19  B002     58    56  Tuesday  2015-11-03  15:00-16:00\n",
       "2015-11-03 16:25:26  B002     41    40  Tuesday  2015-11-03  16:00-17:00\n",
       "2015-11-06 09:31:04  B002      3     3   Friday  2015-11-06  09:00-10:00\n",
       "2015-11-06 10:58:23  B002     16    16   Friday  2015-11-06  10:00-11:00\n",
       "2015-11-06 11:58:53  B002     23    23   Friday  2015-11-06  11:00-12:00\n",
       "2015-11-06 12:04:24  B002     18    18   Friday  2015-11-06  12:00-13:00\n",
       "2015-11-06 13:55:18  B002     19    19   Friday  2015-11-06  13:00-14:00\n",
       "2015-11-06 14:30:21  B002     36    35   Friday  2015-11-06  14:00-15:00\n",
       "2015-11-06 15:06:00  B002     46    45   Friday  2015-11-06  15:00-16:00\n",
       "2015-11-06 16:01:17  B002     25    24   Friday  2015-11-06  16:00-17:00\n",
       "2015-11-16 09:59:51  B002      7     7   Monday  2015-11-16  09:00-10:00"
      ]
     },
     "execution_count": 18,
     "metadata": {},
     "output_type": "execute_result"
    }
   ],
   "source": [
    "output_data.head(25)"
   ]
  },
  {
   "cell_type": "code",
   "execution_count": 19,
   "metadata": {
    "collapsed": false
   },
   "outputs": [
    {
     "data": {
      "text/html": [
       "<div>\n",
       "<table border=\"1\" class=\"dataframe\">\n",
       "  <thead>\n",
       "    <tr style=\"text-align: right;\">\n",
       "      <th></th>\n",
       "      <th>Room</th>\n",
       "      <th>Weekday</th>\n",
       "      <th>Date</th>\n",
       "      <th>Time</th>\n",
       "      <th>Assoc</th>\n",
       "      <th>Auth</th>\n",
       "    </tr>\n",
       "  </thead>\n",
       "  <tbody>\n",
       "    <tr>\n",
       "      <th>2015-11-13 09:42:13</th>\n",
       "      <td>B002</td>\n",
       "      <td>Friday</td>\n",
       "      <td>2015-11-13</td>\n",
       "      <td>09:00-10:00</td>\n",
       "      <td>9</td>\n",
       "      <td>9</td>\n",
       "    </tr>\n",
       "    <tr>\n",
       "      <th>2015-11-13 10:54:19</th>\n",
       "      <td>B002</td>\n",
       "      <td>Friday</td>\n",
       "      <td>2015-11-13</td>\n",
       "      <td>10:00-11:00</td>\n",
       "      <td>17</td>\n",
       "      <td>17</td>\n",
       "    </tr>\n",
       "    <tr>\n",
       "      <th>2015-11-13 11:05:01</th>\n",
       "      <td>B002</td>\n",
       "      <td>Friday</td>\n",
       "      <td>2015-11-13</td>\n",
       "      <td>11:00-12:00</td>\n",
       "      <td>19</td>\n",
       "      <td>19</td>\n",
       "    </tr>\n",
       "    <tr>\n",
       "      <th>2015-11-13 12:40:15</th>\n",
       "      <td>B002</td>\n",
       "      <td>Friday</td>\n",
       "      <td>2015-11-13</td>\n",
       "      <td>12:00-13:00</td>\n",
       "      <td>20</td>\n",
       "      <td>20</td>\n",
       "    </tr>\n",
       "    <tr>\n",
       "      <th>2015-11-13 13:35:58</th>\n",
       "      <td>B002</td>\n",
       "      <td>Friday</td>\n",
       "      <td>2015-11-13</td>\n",
       "      <td>13:00-14:00</td>\n",
       "      <td>16</td>\n",
       "      <td>16</td>\n",
       "    </tr>\n",
       "  </tbody>\n",
       "</table>\n",
       "</div>"
      ],
      "text/plain": [
       "                     Room Weekday        Date         Time  Assoc  Auth\n",
       "2015-11-13 09:42:13  B002  Friday  2015-11-13  09:00-10:00      9     9\n",
       "2015-11-13 10:54:19  B002  Friday  2015-11-13  10:00-11:00     17    17\n",
       "2015-11-13 11:05:01  B002  Friday  2015-11-13  11:00-12:00     19    19\n",
       "2015-11-13 12:40:15  B002  Friday  2015-11-13  12:00-13:00     20    20\n",
       "2015-11-13 13:35:58  B002  Friday  2015-11-13  13:00-14:00     16    16"
      ]
     },
     "execution_count": 19,
     "metadata": {},
     "output_type": "execute_result"
    }
   ],
   "source": [
    "#putting table header in order\n",
    "output_data = output_data [['Room', 'Weekday', 'Date', 'Time', 'Assoc', 'Auth']]\n",
    "output_data.head()"
   ]
  },
  {
   "cell_type": "code",
   "execution_count": 20,
   "metadata": {
    "collapsed": false
   },
   "outputs": [
    {
     "data": {
      "text/plain": [
       "(249, 6)"
      ]
     },
     "execution_count": 20,
     "metadata": {},
     "output_type": "execute_result"
    }
   ],
   "source": [
    "output_data.shape"
   ]
  },
  {
   "cell_type": "markdown",
   "metadata": {},
   "source": [
    "### Reading  from a csv file, into a data frame - TIMETABLE "
   ]
  },
  {
   "cell_type": "code",
   "execution_count": 21,
   "metadata": {
    "collapsed": false
   },
   "outputs": [
    {
     "data": {
      "text/html": [
       "<div>\n",
       "<table border=\"1\" class=\"dataframe\">\n",
       "  <thead>\n",
       "    <tr style=\"text-align: right;\">\n",
       "      <th></th>\n",
       "      <th>Unnamed: 0</th>\n",
       "      <th>room_id</th>\n",
       "      <th>timestamp</th>\n",
       "      <th>code</th>\n",
       "    </tr>\n",
       "  </thead>\n",
       "  <tbody>\n",
       "    <tr>\n",
       "      <th>0</th>\n",
       "      <td>0</td>\n",
       "      <td>B002</td>\n",
       "      <td>1446454800</td>\n",
       "      <td>COMP30190</td>\n",
       "    </tr>\n",
       "    <tr>\n",
       "      <th>1</th>\n",
       "      <td>1</td>\n",
       "      <td>B002</td>\n",
       "      <td>1446458400</td>\n",
       "      <td>COMP40660</td>\n",
       "    </tr>\n",
       "    <tr>\n",
       "      <th>2</th>\n",
       "      <td>2</td>\n",
       "      <td>B002</td>\n",
       "      <td>1446462000</td>\n",
       "      <td>not available</td>\n",
       "    </tr>\n",
       "    <tr>\n",
       "      <th>3</th>\n",
       "      <td>3</td>\n",
       "      <td>B002</td>\n",
       "      <td>1446465600</td>\n",
       "      <td>COMP30250</td>\n",
       "    </tr>\n",
       "    <tr>\n",
       "      <th>4</th>\n",
       "      <td>4</td>\n",
       "      <td>B002</td>\n",
       "      <td>1446469200</td>\n",
       "      <td>COMP41690</td>\n",
       "    </tr>\n",
       "  </tbody>\n",
       "</table>\n",
       "</div>"
      ],
      "text/plain": [
       "   Unnamed: 0 room_id   timestamp           code\n",
       "0           0    B002  1446454800      COMP30190\n",
       "1           1    B002  1446458400      COMP40660\n",
       "2           2    B002  1446462000  not available\n",
       "3           3    B002  1446465600      COMP30250\n",
       "4           4    B002  1446469200      COMP41690"
      ]
     },
     "execution_count": 21,
     "metadata": {},
     "output_type": "execute_result"
    }
   ],
   "source": [
    "\n",
    "# Reading from a csv file, into a data frame\n",
    "timetable = pd.read_csv(\"timetable.csv\")\n",
    "# Show first 5 rows of data frame\n",
    "timetable.head()"
   ]
  },
  {
   "cell_type": "code",
   "execution_count": 22,
   "metadata": {
    "collapsed": false
   },
   "outputs": [
    {
     "data": {
      "text/plain": [
       "Unnamed: 0     int64\n",
       "room_id       object\n",
       "timestamp      int64\n",
       "code          object\n",
       "dtype: object"
      ]
     },
     "execution_count": 22,
     "metadata": {},
     "output_type": "execute_result"
    }
   ],
   "source": [
    "timetable.dtypes"
   ]
  },
  {
   "cell_type": "code",
   "execution_count": 23,
   "metadata": {
    "collapsed": false
   },
   "outputs": [
    {
     "data": {
      "text/html": [
       "<div>\n",
       "<table border=\"1\" class=\"dataframe\">\n",
       "  <thead>\n",
       "    <tr style=\"text-align: right;\">\n",
       "      <th></th>\n",
       "      <th>room_id</th>\n",
       "      <th>timestamp</th>\n",
       "      <th>code</th>\n",
       "    </tr>\n",
       "  </thead>\n",
       "  <tbody>\n",
       "    <tr>\n",
       "      <th>0</th>\n",
       "      <td>B002</td>\n",
       "      <td>1446454800</td>\n",
       "      <td>COMP30190</td>\n",
       "    </tr>\n",
       "    <tr>\n",
       "      <th>1</th>\n",
       "      <td>B002</td>\n",
       "      <td>1446458400</td>\n",
       "      <td>COMP40660</td>\n",
       "    </tr>\n",
       "    <tr>\n",
       "      <th>2</th>\n",
       "      <td>B002</td>\n",
       "      <td>1446462000</td>\n",
       "      <td>not available</td>\n",
       "    </tr>\n",
       "    <tr>\n",
       "      <th>3</th>\n",
       "      <td>B002</td>\n",
       "      <td>1446465600</td>\n",
       "      <td>COMP30250</td>\n",
       "    </tr>\n",
       "    <tr>\n",
       "      <th>4</th>\n",
       "      <td>B002</td>\n",
       "      <td>1446469200</td>\n",
       "      <td>COMP41690</td>\n",
       "    </tr>\n",
       "  </tbody>\n",
       "</table>\n",
       "</div>"
      ],
      "text/plain": [
       "  room_id   timestamp           code\n",
       "0    B002  1446454800      COMP30190\n",
       "1    B002  1446458400      COMP40660\n",
       "2    B002  1446462000  not available\n",
       "3    B002  1446465600      COMP30250\n",
       "4    B002  1446469200      COMP41690"
      ]
     },
     "execution_count": 23,
     "metadata": {},
     "output_type": "execute_result"
    }
   ],
   "source": [
    "#dropping first column Unamed:0 as we don't need that column in our analysis\n",
    "timetable.drop(timetable.columns[[0]], axis=1, inplace=True)\n",
    "timetable.head()"
   ]
  },
  {
   "cell_type": "code",
   "execution_count": 24,
   "metadata": {
    "collapsed": false
   },
   "outputs": [
    {
     "data": {
      "text/plain": [
       "room_id      0\n",
       "timestamp    0\n",
       "code         0\n",
       "dtype: int64"
      ]
     },
     "execution_count": 24,
     "metadata": {},
     "output_type": "execute_result"
    }
   ],
   "source": [
    "#checking the number of data with NaN\n",
    "#NaN means that there is no class at that time\n",
    "timetable.isnull().sum()"
   ]
  },
  {
   "cell_type": "code",
   "execution_count": 25,
   "metadata": {
    "collapsed": false
   },
   "outputs": [],
   "source": [
    "#replace string 'not avaialbe' to 'empty'\n",
    "timetable.code.replace(['not available'], ['empty'], inplace=True)"
   ]
  },
  {
   "cell_type": "code",
   "execution_count": 26,
   "metadata": {
    "collapsed": false
   },
   "outputs": [
    {
     "data": {
      "text/html": [
       "<div>\n",
       "<table border=\"1\" class=\"dataframe\">\n",
       "  <thead>\n",
       "    <tr style=\"text-align: right;\">\n",
       "      <th></th>\n",
       "      <th>room_id</th>\n",
       "      <th>timestamp</th>\n",
       "      <th>code</th>\n",
       "    </tr>\n",
       "  </thead>\n",
       "  <tbody>\n",
       "    <tr>\n",
       "      <th>0</th>\n",
       "      <td>B002</td>\n",
       "      <td>1446454800</td>\n",
       "      <td>COMP30190</td>\n",
       "    </tr>\n",
       "    <tr>\n",
       "      <th>1</th>\n",
       "      <td>B002</td>\n",
       "      <td>1446458400</td>\n",
       "      <td>COMP40660</td>\n",
       "    </tr>\n",
       "    <tr>\n",
       "      <th>2</th>\n",
       "      <td>B002</td>\n",
       "      <td>1446462000</td>\n",
       "      <td>empty</td>\n",
       "    </tr>\n",
       "    <tr>\n",
       "      <th>3</th>\n",
       "      <td>B002</td>\n",
       "      <td>1446465600</td>\n",
       "      <td>COMP30250</td>\n",
       "    </tr>\n",
       "    <tr>\n",
       "      <th>4</th>\n",
       "      <td>B002</td>\n",
       "      <td>1446469200</td>\n",
       "      <td>COMP41690</td>\n",
       "    </tr>\n",
       "  </tbody>\n",
       "</table>\n",
       "</div>"
      ],
      "text/plain": [
       "  room_id   timestamp       code\n",
       "0    B002  1446454800  COMP30190\n",
       "1    B002  1446458400  COMP40660\n",
       "2    B002  1446462000      empty\n",
       "3    B002  1446465600  COMP30250\n",
       "4    B002  1446469200  COMP41690"
      ]
     },
     "execution_count": 26,
     "metadata": {},
     "output_type": "execute_result"
    }
   ],
   "source": [
    "timetable.head()"
   ]
  },
  {
   "cell_type": "code",
   "execution_count": 27,
   "metadata": {
    "collapsed": false
   },
   "outputs": [
    {
     "data": {
      "text/plain": [
       "0"
      ]
     },
     "execution_count": 27,
     "metadata": {},
     "output_type": "execute_result"
    }
   ],
   "source": [
    "timetable.duplicated().sum()"
   ]
  },
  {
   "cell_type": "markdown",
   "metadata": {},
   "source": [
    "#### Split column timestamp into Weekday, Date and Time columns"
   ]
  },
  {
   "cell_type": "code",
   "execution_count": 28,
   "metadata": {
    "collapsed": false
   },
   "outputs": [],
   "source": [
    "timetable['timestamp'] = timetable['timestamp'].map(format_timestamp)"
   ]
  },
  {
   "cell_type": "code",
   "execution_count": 29,
   "metadata": {
    "collapsed": false
   },
   "outputs": [],
   "source": [
    "#iterate through all rows and split column timestamp for three different values\n",
    "weekdays, dates, times = [], [], []\n",
    "for timestamp in timetable['timestamp']:\n",
    "    weekdays.append(timestamp.weekday())\n",
    "    dates.append(timestamp.strftime(\"%Y-%m-%d\"))\n",
    "    times.append(timestamp.strftime(\"%H:%M:%S\"))"
   ]
  },
  {
   "cell_type": "code",
   "execution_count": 30,
   "metadata": {
    "collapsed": false
   },
   "outputs": [],
   "source": [
    "timetable['Weekday'] = weekdays\n",
    "timetable['Date'] = dates\n",
    "timetable['Time'] = times"
   ]
  },
  {
   "cell_type": "code",
   "execution_count": 31,
   "metadata": {
    "collapsed": false
   },
   "outputs": [],
   "source": [
    "#Mapping weekday number to name\n",
    "timetable['Weekday'] = timetable['Weekday'].map(format_weekday)"
   ]
  },
  {
   "cell_type": "code",
   "execution_count": 32,
   "metadata": {
    "collapsed": false
   },
   "outputs": [
    {
     "data": {
      "text/html": [
       "<div>\n",
       "<table border=\"1\" class=\"dataframe\">\n",
       "  <thead>\n",
       "    <tr style=\"text-align: right;\">\n",
       "      <th></th>\n",
       "      <th>room_id</th>\n",
       "      <th>timestamp</th>\n",
       "      <th>code</th>\n",
       "      <th>Weekday</th>\n",
       "      <th>Date</th>\n",
       "      <th>Time</th>\n",
       "    </tr>\n",
       "  </thead>\n",
       "  <tbody>\n",
       "    <tr>\n",
       "      <th>0</th>\n",
       "      <td>B002</td>\n",
       "      <td>2015-11-02 09:00:00</td>\n",
       "      <td>COMP30190</td>\n",
       "      <td>Monday</td>\n",
       "      <td>2015-11-02</td>\n",
       "      <td>09:00:00</td>\n",
       "    </tr>\n",
       "    <tr>\n",
       "      <th>1</th>\n",
       "      <td>B002</td>\n",
       "      <td>2015-11-02 10:00:00</td>\n",
       "      <td>COMP40660</td>\n",
       "      <td>Monday</td>\n",
       "      <td>2015-11-02</td>\n",
       "      <td>10:00:00</td>\n",
       "    </tr>\n",
       "    <tr>\n",
       "      <th>2</th>\n",
       "      <td>B002</td>\n",
       "      <td>2015-11-02 11:00:00</td>\n",
       "      <td>empty</td>\n",
       "      <td>Monday</td>\n",
       "      <td>2015-11-02</td>\n",
       "      <td>11:00:00</td>\n",
       "    </tr>\n",
       "    <tr>\n",
       "      <th>3</th>\n",
       "      <td>B002</td>\n",
       "      <td>2015-11-02 12:00:00</td>\n",
       "      <td>COMP30250</td>\n",
       "      <td>Monday</td>\n",
       "      <td>2015-11-02</td>\n",
       "      <td>12:00:00</td>\n",
       "    </tr>\n",
       "    <tr>\n",
       "      <th>4</th>\n",
       "      <td>B002</td>\n",
       "      <td>2015-11-02 13:00:00</td>\n",
       "      <td>COMP41690</td>\n",
       "      <td>Monday</td>\n",
       "      <td>2015-11-02</td>\n",
       "      <td>13:00:00</td>\n",
       "    </tr>\n",
       "  </tbody>\n",
       "</table>\n",
       "</div>"
      ],
      "text/plain": [
       "  room_id           timestamp       code Weekday        Date      Time\n",
       "0    B002 2015-11-02 09:00:00  COMP30190  Monday  2015-11-02  09:00:00\n",
       "1    B002 2015-11-02 10:00:00  COMP40660  Monday  2015-11-02  10:00:00\n",
       "2    B002 2015-11-02 11:00:00      empty  Monday  2015-11-02  11:00:00\n",
       "3    B002 2015-11-02 12:00:00  COMP30250  Monday  2015-11-02  12:00:00\n",
       "4    B002 2015-11-02 13:00:00  COMP41690  Monday  2015-11-02  13:00:00"
      ]
     },
     "execution_count": 32,
     "metadata": {},
     "output_type": "execute_result"
    }
   ],
   "source": [
    "timetable.head()"
   ]
  },
  {
   "cell_type": "code",
   "execution_count": 33,
   "metadata": {
    "collapsed": false
   },
   "outputs": [],
   "source": [
    "timetable['Time'] = timetable['Time'].map(format_timerange)"
   ]
  },
  {
   "cell_type": "code",
   "execution_count": 34,
   "metadata": {
    "collapsed": false
   },
   "outputs": [
    {
     "data": {
      "text/html": [
       "<div>\n",
       "<table border=\"1\" class=\"dataframe\">\n",
       "  <thead>\n",
       "    <tr style=\"text-align: right;\">\n",
       "      <th></th>\n",
       "      <th>room_id</th>\n",
       "      <th>timestamp</th>\n",
       "      <th>code</th>\n",
       "      <th>Weekday</th>\n",
       "      <th>Date</th>\n",
       "      <th>Time</th>\n",
       "    </tr>\n",
       "  </thead>\n",
       "  <tbody>\n",
       "    <tr>\n",
       "      <th>0</th>\n",
       "      <td>B002</td>\n",
       "      <td>2015-11-02 09:00:00</td>\n",
       "      <td>COMP30190</td>\n",
       "      <td>Monday</td>\n",
       "      <td>2015-11-02</td>\n",
       "      <td>09:00-10:00</td>\n",
       "    </tr>\n",
       "    <tr>\n",
       "      <th>1</th>\n",
       "      <td>B002</td>\n",
       "      <td>2015-11-02 10:00:00</td>\n",
       "      <td>COMP40660</td>\n",
       "      <td>Monday</td>\n",
       "      <td>2015-11-02</td>\n",
       "      <td>10:00-11:00</td>\n",
       "    </tr>\n",
       "    <tr>\n",
       "      <th>2</th>\n",
       "      <td>B002</td>\n",
       "      <td>2015-11-02 11:00:00</td>\n",
       "      <td>empty</td>\n",
       "      <td>Monday</td>\n",
       "      <td>2015-11-02</td>\n",
       "      <td>11:00-12:00</td>\n",
       "    </tr>\n",
       "    <tr>\n",
       "      <th>3</th>\n",
       "      <td>B002</td>\n",
       "      <td>2015-11-02 12:00:00</td>\n",
       "      <td>COMP30250</td>\n",
       "      <td>Monday</td>\n",
       "      <td>2015-11-02</td>\n",
       "      <td>12:00-13:00</td>\n",
       "    </tr>\n",
       "    <tr>\n",
       "      <th>4</th>\n",
       "      <td>B002</td>\n",
       "      <td>2015-11-02 13:00:00</td>\n",
       "      <td>COMP41690</td>\n",
       "      <td>Monday</td>\n",
       "      <td>2015-11-02</td>\n",
       "      <td>13:00-14:00</td>\n",
       "    </tr>\n",
       "  </tbody>\n",
       "</table>\n",
       "</div>"
      ],
      "text/plain": [
       "  room_id           timestamp       code Weekday        Date         Time\n",
       "0    B002 2015-11-02 09:00:00  COMP30190  Monday  2015-11-02  09:00-10:00\n",
       "1    B002 2015-11-02 10:00:00  COMP40660  Monday  2015-11-02  10:00-11:00\n",
       "2    B002 2015-11-02 11:00:00      empty  Monday  2015-11-02  11:00-12:00\n",
       "3    B002 2015-11-02 12:00:00  COMP30250  Monday  2015-11-02  12:00-13:00\n",
       "4    B002 2015-11-02 13:00:00  COMP41690  Monday  2015-11-02  13:00-14:00"
      ]
     },
     "execution_count": 34,
     "metadata": {},
     "output_type": "execute_result"
    }
   ],
   "source": [
    "timetable.head()"
   ]
  },
  {
   "cell_type": "code",
   "execution_count": 35,
   "metadata": {
    "collapsed": false
   },
   "outputs": [
    {
     "data": {
      "text/html": [
       "<div>\n",
       "<table border=\"1\" class=\"dataframe\">\n",
       "  <thead>\n",
       "    <tr style=\"text-align: right;\">\n",
       "      <th></th>\n",
       "      <th>Room</th>\n",
       "      <th>timestamp</th>\n",
       "      <th>Module</th>\n",
       "      <th>Weekday</th>\n",
       "      <th>Date</th>\n",
       "      <th>Time</th>\n",
       "    </tr>\n",
       "  </thead>\n",
       "  <tbody>\n",
       "    <tr>\n",
       "      <th>0</th>\n",
       "      <td>B002</td>\n",
       "      <td>2015-11-02 09:00:00</td>\n",
       "      <td>COMP30190</td>\n",
       "      <td>Monday</td>\n",
       "      <td>2015-11-02</td>\n",
       "      <td>09:00-10:00</td>\n",
       "    </tr>\n",
       "    <tr>\n",
       "      <th>1</th>\n",
       "      <td>B002</td>\n",
       "      <td>2015-11-02 10:00:00</td>\n",
       "      <td>COMP40660</td>\n",
       "      <td>Monday</td>\n",
       "      <td>2015-11-02</td>\n",
       "      <td>10:00-11:00</td>\n",
       "    </tr>\n",
       "    <tr>\n",
       "      <th>2</th>\n",
       "      <td>B002</td>\n",
       "      <td>2015-11-02 11:00:00</td>\n",
       "      <td>empty</td>\n",
       "      <td>Monday</td>\n",
       "      <td>2015-11-02</td>\n",
       "      <td>11:00-12:00</td>\n",
       "    </tr>\n",
       "    <tr>\n",
       "      <th>3</th>\n",
       "      <td>B002</td>\n",
       "      <td>2015-11-02 12:00:00</td>\n",
       "      <td>COMP30250</td>\n",
       "      <td>Monday</td>\n",
       "      <td>2015-11-02</td>\n",
       "      <td>12:00-13:00</td>\n",
       "    </tr>\n",
       "    <tr>\n",
       "      <th>4</th>\n",
       "      <td>B002</td>\n",
       "      <td>2015-11-02 13:00:00</td>\n",
       "      <td>COMP41690</td>\n",
       "      <td>Monday</td>\n",
       "      <td>2015-11-02</td>\n",
       "      <td>13:00-14:00</td>\n",
       "    </tr>\n",
       "  </tbody>\n",
       "</table>\n",
       "</div>"
      ],
      "text/plain": [
       "   Room           timestamp     Module Weekday        Date         Time\n",
       "0  B002 2015-11-02 09:00:00  COMP30190  Monday  2015-11-02  09:00-10:00\n",
       "1  B002 2015-11-02 10:00:00  COMP40660  Monday  2015-11-02  10:00-11:00\n",
       "2  B002 2015-11-02 11:00:00      empty  Monday  2015-11-02  11:00-12:00\n",
       "3  B002 2015-11-02 12:00:00  COMP30250  Monday  2015-11-02  12:00-13:00\n",
       "4  B002 2015-11-02 13:00:00  COMP41690  Monday  2015-11-02  13:00-14:00"
      ]
     },
     "execution_count": 35,
     "metadata": {},
     "output_type": "execute_result"
    }
   ],
   "source": [
    "#renaming column name room_id to Room and code to Module\n",
    "timetable = timetable.rename(columns = {'room_id':'Room','code':'Module'})\n",
    "timetable.head()"
   ]
  },
  {
   "cell_type": "code",
   "execution_count": 36,
   "metadata": {
    "collapsed": false
   },
   "outputs": [
    {
     "data": {
      "text/plain": [
       "(271, 6)"
      ]
     },
     "execution_count": 36,
     "metadata": {},
     "output_type": "execute_result"
    }
   ],
   "source": [
    "timetable.shape"
   ]
  },
  {
   "cell_type": "markdown",
   "metadata": {},
   "source": [
    "### Reading  from a csv file, into a data frame -  Ground Truth data"
   ]
  },
  {
   "cell_type": "code",
   "execution_count": 37,
   "metadata": {
    "collapsed": false,
    "scrolled": true
   },
   "outputs": [
    {
     "data": {
      "text/html": [
       "<div>\n",
       "<table border=\"1\" class=\"dataframe\">\n",
       "  <thead>\n",
       "    <tr style=\"text-align: right;\">\n",
       "      <th></th>\n",
       "      <th>Room</th>\n",
       "      <th>over_3</th>\n",
       "      <th>perc_occupied</th>\n",
       "      <th>survey_id</th>\n",
       "      <th>timestamp</th>\n",
       "    </tr>\n",
       "  </thead>\n",
       "  <tbody>\n",
       "    <tr>\n",
       "      <th>0</th>\n",
       "      <td>B004</td>\n",
       "      <td>1</td>\n",
       "      <td>25</td>\n",
       "      <td>0</td>\n",
       "      <td>1446454800</td>\n",
       "    </tr>\n",
       "    <tr>\n",
       "      <th>1</th>\n",
       "      <td>B004</td>\n",
       "      <td>1</td>\n",
       "      <td>50</td>\n",
       "      <td>1</td>\n",
       "      <td>1446458400</td>\n",
       "    </tr>\n",
       "    <tr>\n",
       "      <th>2</th>\n",
       "      <td>B004</td>\n",
       "      <td>1</td>\n",
       "      <td>25</td>\n",
       "      <td>2</td>\n",
       "      <td>1446462000</td>\n",
       "    </tr>\n",
       "    <tr>\n",
       "      <th>3</th>\n",
       "      <td>B004</td>\n",
       "      <td>1</td>\n",
       "      <td>25</td>\n",
       "      <td>3</td>\n",
       "      <td>1446465600</td>\n",
       "    </tr>\n",
       "    <tr>\n",
       "      <th>4</th>\n",
       "      <td>B004</td>\n",
       "      <td>1</td>\n",
       "      <td>50</td>\n",
       "      <td>4</td>\n",
       "      <td>1446469200</td>\n",
       "    </tr>\n",
       "  </tbody>\n",
       "</table>\n",
       "</div>"
      ],
      "text/plain": [
       "   Room  over_3  perc_occupied  survey_id   timestamp\n",
       "0  B004       1             25          0  1446454800\n",
       "1  B004       1             50          1  1446458400\n",
       "2  B004       1             25          2  1446462000\n",
       "3  B004       1             25          3  1446465600\n",
       "4  B004       1             50          4  1446469200"
      ]
     },
     "execution_count": 37,
     "metadata": {},
     "output_type": "execute_result"
    }
   ],
   "source": [
    "# Reading from a csv file, into a data frame\n",
    "ground = pd.read_csv(\"ground.csv\")\n",
    "# Show first 5 rows of data frame\n",
    "ground.head()"
   ]
  },
  {
   "cell_type": "code",
   "execution_count": 38,
   "metadata": {
    "collapsed": false
   },
   "outputs": [
    {
     "data": {
      "text/plain": [
       "Room             object\n",
       "over_3            int64\n",
       "perc_occupied     int64\n",
       "survey_id         int64\n",
       "timestamp         int64\n",
       "dtype: object"
      ]
     },
     "execution_count": 38,
     "metadata": {},
     "output_type": "execute_result"
    }
   ],
   "source": [
    "ground.dtypes\n"
   ]
  },
  {
   "cell_type": "code",
   "execution_count": 39,
   "metadata": {
    "collapsed": false
   },
   "outputs": [
    {
     "data": {
      "text/plain": [
       "0"
      ]
     },
     "execution_count": 39,
     "metadata": {},
     "output_type": "execute_result"
    }
   ],
   "source": [
    "ground.duplicated().sum()"
   ]
  },
  {
   "cell_type": "code",
   "execution_count": 40,
   "metadata": {
    "collapsed": false
   },
   "outputs": [
    {
     "data": {
      "text/plain": [
       "Room             0\n",
       "over_3           0\n",
       "perc_occupied    0\n",
       "survey_id        0\n",
       "timestamp        0\n",
       "dtype: int64"
      ]
     },
     "execution_count": 40,
     "metadata": {},
     "output_type": "execute_result"
    }
   ],
   "source": [
    "#checking the number of data with Nan\n",
    "ground.isnull().sum()"
   ]
  },
  {
   "cell_type": "markdown",
   "metadata": {},
   "source": [
    "#### Split timestamp data into Weekday, Date and Time columns"
   ]
  },
  {
   "cell_type": "code",
   "execution_count": 41,
   "metadata": {
    "collapsed": false
   },
   "outputs": [
    {
     "data": {
      "text/html": [
       "<div>\n",
       "<table border=\"1\" class=\"dataframe\">\n",
       "  <thead>\n",
       "    <tr style=\"text-align: right;\">\n",
       "      <th></th>\n",
       "      <th>Room</th>\n",
       "      <th>over_3</th>\n",
       "      <th>perc_occupied</th>\n",
       "      <th>survey_id</th>\n",
       "      <th>timestamp</th>\n",
       "    </tr>\n",
       "  </thead>\n",
       "  <tbody>\n",
       "    <tr>\n",
       "      <th>0</th>\n",
       "      <td>B004</td>\n",
       "      <td>1</td>\n",
       "      <td>25</td>\n",
       "      <td>0</td>\n",
       "      <td>2015-11-02 09:00:00</td>\n",
       "    </tr>\n",
       "    <tr>\n",
       "      <th>1</th>\n",
       "      <td>B004</td>\n",
       "      <td>1</td>\n",
       "      <td>50</td>\n",
       "      <td>1</td>\n",
       "      <td>2015-11-02 10:00:00</td>\n",
       "    </tr>\n",
       "    <tr>\n",
       "      <th>2</th>\n",
       "      <td>B004</td>\n",
       "      <td>1</td>\n",
       "      <td>25</td>\n",
       "      <td>2</td>\n",
       "      <td>2015-11-02 11:00:00</td>\n",
       "    </tr>\n",
       "    <tr>\n",
       "      <th>3</th>\n",
       "      <td>B004</td>\n",
       "      <td>1</td>\n",
       "      <td>25</td>\n",
       "      <td>3</td>\n",
       "      <td>2015-11-02 12:00:00</td>\n",
       "    </tr>\n",
       "    <tr>\n",
       "      <th>4</th>\n",
       "      <td>B004</td>\n",
       "      <td>1</td>\n",
       "      <td>50</td>\n",
       "      <td>4</td>\n",
       "      <td>2015-11-02 13:00:00</td>\n",
       "    </tr>\n",
       "  </tbody>\n",
       "</table>\n",
       "</div>"
      ],
      "text/plain": [
       "   Room  over_3  perc_occupied  survey_id           timestamp\n",
       "0  B004       1             25          0 2015-11-02 09:00:00\n",
       "1  B004       1             50          1 2015-11-02 10:00:00\n",
       "2  B004       1             25          2 2015-11-02 11:00:00\n",
       "3  B004       1             25          3 2015-11-02 12:00:00\n",
       "4  B004       1             50          4 2015-11-02 13:00:00"
      ]
     },
     "execution_count": 41,
     "metadata": {},
     "output_type": "execute_result"
    }
   ],
   "source": [
    "#changing unix timestampt to date format\n",
    "ground['timestamp'] = pd.to_datetime(ground['timestamp'],unit='s')\n",
    "ground.head()"
   ]
  },
  {
   "cell_type": "code",
   "execution_count": 42,
   "metadata": {
    "collapsed": true
   },
   "outputs": [],
   "source": [
    "#iterate through all rows and split column timestamp for three different values\n",
    "weekdays, dates, times = [], [], []\n",
    "for timestamp in ground['timestamp']:\n",
    "    weekdays.append(timestamp.weekday())\n",
    "    dates.append(timestamp.strftime(\"%Y-%m-%d\"))\n",
    "    times.append(timestamp.strftime(\"%H:%M:%S\"))"
   ]
  },
  {
   "cell_type": "code",
   "execution_count": 43,
   "metadata": {
    "collapsed": true
   },
   "outputs": [],
   "source": [
    "ground['Weekday'] = weekdays\n",
    "ground['Date'] = dates\n",
    "ground['Time'] = times"
   ]
  },
  {
   "cell_type": "code",
   "execution_count": 44,
   "metadata": {
    "collapsed": true
   },
   "outputs": [],
   "source": [
    "#Mapping weekday number to name\n",
    "\n",
    "ground['Weekday'] = ground['Weekday'].map(format_weekday)"
   ]
  },
  {
   "cell_type": "code",
   "execution_count": 45,
   "metadata": {
    "collapsed": true
   },
   "outputs": [],
   "source": [
    "#changing hour to format in range 9:00 - 10:00, 10:00-11:00 etc\n",
    "ground['Time'] = ground['Time'].map(format_timerange)"
   ]
  },
  {
   "cell_type": "code",
   "execution_count": 46,
   "metadata": {
    "collapsed": false
   },
   "outputs": [
    {
     "data": {
      "text/html": [
       "<div>\n",
       "<table border=\"1\" class=\"dataframe\">\n",
       "  <thead>\n",
       "    <tr style=\"text-align: right;\">\n",
       "      <th></th>\n",
       "      <th>Room</th>\n",
       "      <th>over_3</th>\n",
       "      <th>perc_occupied</th>\n",
       "      <th>survey_id</th>\n",
       "      <th>timestamp</th>\n",
       "      <th>Weekday</th>\n",
       "      <th>Date</th>\n",
       "      <th>Time</th>\n",
       "    </tr>\n",
       "  </thead>\n",
       "  <tbody>\n",
       "    <tr>\n",
       "      <th>0</th>\n",
       "      <td>B004</td>\n",
       "      <td>1</td>\n",
       "      <td>25</td>\n",
       "      <td>0</td>\n",
       "      <td>2015-11-02 09:00:00</td>\n",
       "      <td>Monday</td>\n",
       "      <td>2015-11-02</td>\n",
       "      <td>09:00-10:00</td>\n",
       "    </tr>\n",
       "    <tr>\n",
       "      <th>1</th>\n",
       "      <td>B004</td>\n",
       "      <td>1</td>\n",
       "      <td>50</td>\n",
       "      <td>1</td>\n",
       "      <td>2015-11-02 10:00:00</td>\n",
       "      <td>Monday</td>\n",
       "      <td>2015-11-02</td>\n",
       "      <td>10:00-11:00</td>\n",
       "    </tr>\n",
       "    <tr>\n",
       "      <th>2</th>\n",
       "      <td>B004</td>\n",
       "      <td>1</td>\n",
       "      <td>25</td>\n",
       "      <td>2</td>\n",
       "      <td>2015-11-02 11:00:00</td>\n",
       "      <td>Monday</td>\n",
       "      <td>2015-11-02</td>\n",
       "      <td>11:00-12:00</td>\n",
       "    </tr>\n",
       "    <tr>\n",
       "      <th>3</th>\n",
       "      <td>B004</td>\n",
       "      <td>1</td>\n",
       "      <td>25</td>\n",
       "      <td>3</td>\n",
       "      <td>2015-11-02 12:00:00</td>\n",
       "      <td>Monday</td>\n",
       "      <td>2015-11-02</td>\n",
       "      <td>12:00-13:00</td>\n",
       "    </tr>\n",
       "    <tr>\n",
       "      <th>4</th>\n",
       "      <td>B004</td>\n",
       "      <td>1</td>\n",
       "      <td>50</td>\n",
       "      <td>4</td>\n",
       "      <td>2015-11-02 13:00:00</td>\n",
       "      <td>Monday</td>\n",
       "      <td>2015-11-02</td>\n",
       "      <td>13:00-14:00</td>\n",
       "    </tr>\n",
       "  </tbody>\n",
       "</table>\n",
       "</div>"
      ],
      "text/plain": [
       "   Room  over_3  perc_occupied  survey_id           timestamp Weekday  \\\n",
       "0  B004       1             25          0 2015-11-02 09:00:00  Monday   \n",
       "1  B004       1             50          1 2015-11-02 10:00:00  Monday   \n",
       "2  B004       1             25          2 2015-11-02 11:00:00  Monday   \n",
       "3  B004       1             25          3 2015-11-02 12:00:00  Monday   \n",
       "4  B004       1             50          4 2015-11-02 13:00:00  Monday   \n",
       "\n",
       "         Date         Time  \n",
       "0  2015-11-02  09:00-10:00  \n",
       "1  2015-11-02  10:00-11:00  \n",
       "2  2015-11-02  11:00-12:00  \n",
       "3  2015-11-02  12:00-13:00  \n",
       "4  2015-11-02  13:00-14:00  "
      ]
     },
     "execution_count": 46,
     "metadata": {},
     "output_type": "execute_result"
    }
   ],
   "source": [
    "ground.head()"
   ]
  },
  {
   "cell_type": "code",
   "execution_count": 47,
   "metadata": {
    "collapsed": false
   },
   "outputs": [
    {
     "data": {
      "text/plain": [
       "(480, 8)"
      ]
     },
     "execution_count": 47,
     "metadata": {},
     "output_type": "execute_result"
    }
   ],
   "source": [
    "ground.shape"
   ]
  },
  {
   "cell_type": "code",
   "execution_count": 48,
   "metadata": {
    "collapsed": false
   },
   "outputs": [
    {
     "data": {
      "text/plain": [
       "Room                     object\n",
       "over_3                    int64\n",
       "perc_occupied             int64\n",
       "survey_id                 int64\n",
       "timestamp        datetime64[ns]\n",
       "Weekday                  object\n",
       "Date                     object\n",
       "Time                     object\n",
       "dtype: object"
      ]
     },
     "execution_count": 48,
     "metadata": {},
     "output_type": "execute_result"
    }
   ],
   "source": [
    "ground.dtypes"
   ]
  },
  {
   "cell_type": "markdown",
   "metadata": {},
   "source": [
    "#### Reading from a csv file, into a data frame - Room"
   ]
  },
  {
   "cell_type": "code",
   "execution_count": 49,
   "metadata": {
    "collapsed": false
   },
   "outputs": [
    {
     "data": {
      "text/html": [
       "<div>\n",
       "<table border=\"1\" class=\"dataframe\">\n",
       "  <thead>\n",
       "    <tr style=\"text-align: right;\">\n",
       "      <th></th>\n",
       "      <th>Room</th>\n",
       "      <th>Capacity</th>\n",
       "      <th>Room_Type</th>\n",
       "    </tr>\n",
       "  </thead>\n",
       "  <tbody>\n",
       "    <tr>\n",
       "      <th>0</th>\n",
       "      <td>B004</td>\n",
       "      <td>160</td>\n",
       "      <td>Lecture Theatre</td>\n",
       "    </tr>\n",
       "    <tr>\n",
       "      <th>1</th>\n",
       "      <td>B002</td>\n",
       "      <td>90</td>\n",
       "      <td>Classroom</td>\n",
       "    </tr>\n",
       "    <tr>\n",
       "      <th>2</th>\n",
       "      <td>B003</td>\n",
       "      <td>90</td>\n",
       "      <td>Classroom</td>\n",
       "    </tr>\n",
       "    <tr>\n",
       "      <th>3</th>\n",
       "      <td>B106</td>\n",
       "      <td>90</td>\n",
       "      <td>A.L.E</td>\n",
       "    </tr>\n",
       "    <tr>\n",
       "      <th>4</th>\n",
       "      <td>B108</td>\n",
       "      <td>40</td>\n",
       "      <td>Seminar</td>\n",
       "    </tr>\n",
       "  </tbody>\n",
       "</table>\n",
       "</div>"
      ],
      "text/plain": [
       "   Room  Capacity        Room_Type\n",
       "0  B004       160  Lecture Theatre\n",
       "1  B002        90        Classroom\n",
       "2  B003        90        Classroom\n",
       "3  B106        90            A.L.E\n",
       "4  B108        40          Seminar"
      ]
     },
     "execution_count": 49,
     "metadata": {},
     "output_type": "execute_result"
    }
   ],
   "source": [
    "# Reading from a csv file, into a data frame\n",
    "room = pd.read_csv(\"room.csv\")\n",
    "# Show first 5 rows of data frame\n",
    "room.head()"
   ]
  },
  {
   "cell_type": "code",
   "execution_count": 50,
   "metadata": {
    "collapsed": false
   },
   "outputs": [
    {
     "data": {
      "text/plain": [
       "0"
      ]
     },
     "execution_count": 50,
     "metadata": {},
     "output_type": "execute_result"
    }
   ],
   "source": [
    "room.duplicated().sum()"
   ]
  },
  {
   "cell_type": "code",
   "execution_count": 51,
   "metadata": {
    "collapsed": false
   },
   "outputs": [
    {
     "data": {
      "text/plain": [
       "Room         0\n",
       "Capacity     0\n",
       "Room_Type    0\n",
       "dtype: int64"
      ]
     },
     "execution_count": 51,
     "metadata": {},
     "output_type": "execute_result"
    }
   ],
   "source": [
    "#checking the number of data with Nan\n",
    "room.isnull().sum()"
   ]
  },
  {
   "cell_type": "code",
   "execution_count": 52,
   "metadata": {
    "collapsed": false
   },
   "outputs": [
    {
     "data": {
      "text/plain": [
       "(6, 3)"
      ]
     },
     "execution_count": 52,
     "metadata": {},
     "output_type": "execute_result"
    }
   ],
   "source": [
    "room.shape"
   ]
  },
  {
   "cell_type": "code",
   "execution_count": 53,
   "metadata": {
    "collapsed": false
   },
   "outputs": [
    {
     "data": {
      "text/plain": [
       "Room         object\n",
       "Capacity      int64\n",
       "Room_Type    object\n",
       "dtype: object"
      ]
     },
     "execution_count": 53,
     "metadata": {},
     "output_type": "execute_result"
    }
   ],
   "source": [
    "room.dtypes"
   ]
  },
  {
   "cell_type": "markdown",
   "metadata": {},
   "source": [
    "#### Reading from a csv file, into a data frame - Modules"
   ]
  },
  {
   "cell_type": "code",
   "execution_count": 54,
   "metadata": {
    "collapsed": false
   },
   "outputs": [
    {
     "data": {
      "text/html": [
       "<div>\n",
       "<table border=\"1\" class=\"dataframe\">\n",
       "  <thead>\n",
       "    <tr style=\"text-align: right;\">\n",
       "      <th></th>\n",
       "      <th>students</th>\n",
       "      <th>code</th>\n",
       "    </tr>\n",
       "  </thead>\n",
       "  <tbody>\n",
       "    <tr>\n",
       "      <th>0</th>\n",
       "      <td>53</td>\n",
       "      <td>COMP40660</td>\n",
       "    </tr>\n",
       "    <tr>\n",
       "      <th>1</th>\n",
       "      <td>60</td>\n",
       "      <td>COMP41690</td>\n",
       "    </tr>\n",
       "    <tr>\n",
       "      <th>2</th>\n",
       "      <td>22</td>\n",
       "      <td>COMP30250</td>\n",
       "    </tr>\n",
       "    <tr>\n",
       "      <th>3</th>\n",
       "      <td>45</td>\n",
       "      <td>COMP30110</td>\n",
       "    </tr>\n",
       "    <tr>\n",
       "      <th>4</th>\n",
       "      <td>27</td>\n",
       "      <td>COMP40370</td>\n",
       "    </tr>\n",
       "  </tbody>\n",
       "</table>\n",
       "</div>"
      ],
      "text/plain": [
       "   students       code\n",
       "0        53  COMP40660\n",
       "1        60  COMP41690\n",
       "2        22  COMP30250\n",
       "3        45  COMP30110\n",
       "4        27  COMP40370"
      ]
     },
     "execution_count": 54,
     "metadata": {},
     "output_type": "execute_result"
    }
   ],
   "source": [
    "# Reading from a csv file, into a data frame\n",
    "modules = pd.read_csv(\"modules.csv\")\n",
    "# Show first 5 rows of data frame\n",
    "modules.head()"
   ]
  },
  {
   "cell_type": "code",
   "execution_count": 55,
   "metadata": {
    "collapsed": false
   },
   "outputs": [
    {
     "data": {
      "text/html": [
       "<div>\n",
       "<table border=\"1\" class=\"dataframe\">\n",
       "  <thead>\n",
       "    <tr style=\"text-align: right;\">\n",
       "      <th></th>\n",
       "      <th>students</th>\n",
       "      <th>Module</th>\n",
       "    </tr>\n",
       "  </thead>\n",
       "  <tbody>\n",
       "    <tr>\n",
       "      <th>0</th>\n",
       "      <td>53</td>\n",
       "      <td>COMP40660</td>\n",
       "    </tr>\n",
       "    <tr>\n",
       "      <th>1</th>\n",
       "      <td>60</td>\n",
       "      <td>COMP41690</td>\n",
       "    </tr>\n",
       "    <tr>\n",
       "      <th>2</th>\n",
       "      <td>22</td>\n",
       "      <td>COMP30250</td>\n",
       "    </tr>\n",
       "    <tr>\n",
       "      <th>3</th>\n",
       "      <td>45</td>\n",
       "      <td>COMP30110</td>\n",
       "    </tr>\n",
       "    <tr>\n",
       "      <th>4</th>\n",
       "      <td>27</td>\n",
       "      <td>COMP40370</td>\n",
       "    </tr>\n",
       "  </tbody>\n",
       "</table>\n",
       "</div>"
      ],
      "text/plain": [
       "   students     Module\n",
       "0        53  COMP40660\n",
       "1        60  COMP41690\n",
       "2        22  COMP30250\n",
       "3        45  COMP30110\n",
       "4        27  COMP40370"
      ]
     },
     "execution_count": 55,
     "metadata": {},
     "output_type": "execute_result"
    }
   ],
   "source": [
    "#renaming column name room_id to Room and code to Module\n",
    "modules = modules.rename(columns = {'code':'Module'})\n",
    "modules.head()"
   ]
  },
  {
   "cell_type": "code",
   "execution_count": 56,
   "metadata": {
    "collapsed": false
   },
   "outputs": [
    {
     "data": {
      "text/plain": [
       "0"
      ]
     },
     "execution_count": 56,
     "metadata": {},
     "output_type": "execute_result"
    }
   ],
   "source": [
    "modules.duplicated().sum()"
   ]
  },
  {
   "cell_type": "code",
   "execution_count": 57,
   "metadata": {
    "collapsed": false
   },
   "outputs": [
    {
     "data": {
      "text/plain": [
       "students    0\n",
       "Module      0\n",
       "dtype: int64"
      ]
     },
     "execution_count": 57,
     "metadata": {},
     "output_type": "execute_result"
    }
   ],
   "source": [
    "modules.isnull().sum()"
   ]
  },
  {
   "cell_type": "code",
   "execution_count": 58,
   "metadata": {
    "collapsed": false
   },
   "outputs": [
    {
     "data": {
      "text/plain": [
       "students     int64\n",
       "Module      object\n",
       "dtype: object"
      ]
     },
     "execution_count": 58,
     "metadata": {},
     "output_type": "execute_result"
    }
   ],
   "source": [
    "modules.dtypes"
   ]
  },
  {
   "cell_type": "code",
   "execution_count": 59,
   "metadata": {
    "collapsed": false
   },
   "outputs": [
    {
     "data": {
      "text/plain": [
       "(34, 2)"
      ]
     },
     "execution_count": 59,
     "metadata": {},
     "output_type": "execute_result"
    }
   ],
   "source": [
    "modules.shape"
   ]
  },
  {
   "cell_type": "markdown",
   "metadata": {},
   "source": [
    "#### Merging table room with table timetable on the same column name - room "
   ]
  },
  {
   "cell_type": "code",
   "execution_count": 60,
   "metadata": {
    "collapsed": true
   },
   "outputs": [],
   "source": [
    "result = timetable.merge(room,on=['Room'])"
   ]
  },
  {
   "cell_type": "code",
   "execution_count": 61,
   "metadata": {
    "collapsed": false
   },
   "outputs": [
    {
     "data": {
      "text/html": [
       "<div>\n",
       "<table border=\"1\" class=\"dataframe\">\n",
       "  <thead>\n",
       "    <tr style=\"text-align: right;\">\n",
       "      <th></th>\n",
       "      <th>Room</th>\n",
       "      <th>timestamp</th>\n",
       "      <th>Module</th>\n",
       "      <th>Weekday</th>\n",
       "      <th>Date</th>\n",
       "      <th>Time</th>\n",
       "      <th>Capacity</th>\n",
       "      <th>Room_Type</th>\n",
       "    </tr>\n",
       "  </thead>\n",
       "  <tbody>\n",
       "    <tr>\n",
       "      <th>0</th>\n",
       "      <td>B002</td>\n",
       "      <td>2015-11-02 09:00:00</td>\n",
       "      <td>COMP30190</td>\n",
       "      <td>Monday</td>\n",
       "      <td>2015-11-02</td>\n",
       "      <td>09:00-10:00</td>\n",
       "      <td>90</td>\n",
       "      <td>Classroom</td>\n",
       "    </tr>\n",
       "    <tr>\n",
       "      <th>1</th>\n",
       "      <td>B002</td>\n",
       "      <td>2015-11-02 10:00:00</td>\n",
       "      <td>COMP40660</td>\n",
       "      <td>Monday</td>\n",
       "      <td>2015-11-02</td>\n",
       "      <td>10:00-11:00</td>\n",
       "      <td>90</td>\n",
       "      <td>Classroom</td>\n",
       "    </tr>\n",
       "    <tr>\n",
       "      <th>2</th>\n",
       "      <td>B002</td>\n",
       "      <td>2015-11-02 11:00:00</td>\n",
       "      <td>empty</td>\n",
       "      <td>Monday</td>\n",
       "      <td>2015-11-02</td>\n",
       "      <td>11:00-12:00</td>\n",
       "      <td>90</td>\n",
       "      <td>Classroom</td>\n",
       "    </tr>\n",
       "    <tr>\n",
       "      <th>3</th>\n",
       "      <td>B002</td>\n",
       "      <td>2015-11-02 12:00:00</td>\n",
       "      <td>COMP30250</td>\n",
       "      <td>Monday</td>\n",
       "      <td>2015-11-02</td>\n",
       "      <td>12:00-13:00</td>\n",
       "      <td>90</td>\n",
       "      <td>Classroom</td>\n",
       "    </tr>\n",
       "    <tr>\n",
       "      <th>4</th>\n",
       "      <td>B002</td>\n",
       "      <td>2015-11-02 13:00:00</td>\n",
       "      <td>COMP41690</td>\n",
       "      <td>Monday</td>\n",
       "      <td>2015-11-02</td>\n",
       "      <td>13:00-14:00</td>\n",
       "      <td>90</td>\n",
       "      <td>Classroom</td>\n",
       "    </tr>\n",
       "  </tbody>\n",
       "</table>\n",
       "</div>"
      ],
      "text/plain": [
       "   Room           timestamp     Module Weekday        Date         Time  \\\n",
       "0  B002 2015-11-02 09:00:00  COMP30190  Monday  2015-11-02  09:00-10:00   \n",
       "1  B002 2015-11-02 10:00:00  COMP40660  Monday  2015-11-02  10:00-11:00   \n",
       "2  B002 2015-11-02 11:00:00      empty  Monday  2015-11-02  11:00-12:00   \n",
       "3  B002 2015-11-02 12:00:00  COMP30250  Monday  2015-11-02  12:00-13:00   \n",
       "4  B002 2015-11-02 13:00:00  COMP41690  Monday  2015-11-02  13:00-14:00   \n",
       "\n",
       "   Capacity  Room_Type  \n",
       "0        90  Classroom  \n",
       "1        90  Classroom  \n",
       "2        90  Classroom  \n",
       "3        90  Classroom  \n",
       "4        90  Classroom  "
      ]
     },
     "execution_count": 61,
     "metadata": {},
     "output_type": "execute_result"
    }
   ],
   "source": [
    "result.head()"
   ]
  },
  {
   "cell_type": "code",
   "execution_count": 62,
   "metadata": {
    "collapsed": false
   },
   "outputs": [
    {
     "data": {
      "text/plain": [
       "(271, 8)"
      ]
     },
     "execution_count": 62,
     "metadata": {},
     "output_type": "execute_result"
    }
   ],
   "source": [
    "result.shape"
   ]
  },
  {
   "cell_type": "markdown",
   "metadata": {},
   "source": [
    "#### Merging table result1 with table modules on the same columns name - Module"
   ]
  },
  {
   "cell_type": "code",
   "execution_count": 63,
   "metadata": {
    "collapsed": true
   },
   "outputs": [],
   "source": [
    "result1 = pd.merge(result, modules, on=['Module'], how='outer')"
   ]
  },
  {
   "cell_type": "code",
   "execution_count": 64,
   "metadata": {
    "collapsed": false
   },
   "outputs": [
    {
     "data": {
      "text/plain": [
       "(271, 9)"
      ]
     },
     "execution_count": 64,
     "metadata": {},
     "output_type": "execute_result"
    }
   ],
   "source": [
    "result1.shape"
   ]
  },
  {
   "cell_type": "code",
   "execution_count": 65,
   "metadata": {
    "collapsed": false
   },
   "outputs": [
    {
     "data": {
      "text/html": [
       "<div>\n",
       "<table border=\"1\" class=\"dataframe\">\n",
       "  <thead>\n",
       "    <tr style=\"text-align: right;\">\n",
       "      <th></th>\n",
       "      <th>Room</th>\n",
       "      <th>timestamp</th>\n",
       "      <th>Module</th>\n",
       "      <th>Weekday</th>\n",
       "      <th>Date</th>\n",
       "      <th>Time</th>\n",
       "      <th>Capacity</th>\n",
       "      <th>Room_Type</th>\n",
       "      <th>students</th>\n",
       "    </tr>\n",
       "  </thead>\n",
       "  <tbody>\n",
       "    <tr>\n",
       "      <th>0</th>\n",
       "      <td>B002</td>\n",
       "      <td>2015-11-02 09:00:00</td>\n",
       "      <td>COMP30190</td>\n",
       "      <td>Monday</td>\n",
       "      <td>2015-11-02</td>\n",
       "      <td>09:00-10:00</td>\n",
       "      <td>90</td>\n",
       "      <td>Classroom</td>\n",
       "      <td>29</td>\n",
       "    </tr>\n",
       "    <tr>\n",
       "      <th>1</th>\n",
       "      <td>B002</td>\n",
       "      <td>2015-11-04 09:00:00</td>\n",
       "      <td>COMP30190</td>\n",
       "      <td>Wednesday</td>\n",
       "      <td>2015-11-04</td>\n",
       "      <td>09:00-10:00</td>\n",
       "      <td>90</td>\n",
       "      <td>Classroom</td>\n",
       "      <td>29</td>\n",
       "    </tr>\n",
       "    <tr>\n",
       "      <th>2</th>\n",
       "      <td>B002</td>\n",
       "      <td>2015-11-06 11:00:00</td>\n",
       "      <td>COMP30190</td>\n",
       "      <td>Friday</td>\n",
       "      <td>2015-11-06</td>\n",
       "      <td>11:00-12:00</td>\n",
       "      <td>90</td>\n",
       "      <td>Classroom</td>\n",
       "      <td>29</td>\n",
       "    </tr>\n",
       "    <tr>\n",
       "      <th>3</th>\n",
       "      <td>B002</td>\n",
       "      <td>2015-11-06 12:00:00</td>\n",
       "      <td>COMP30190</td>\n",
       "      <td>Friday</td>\n",
       "      <td>2015-11-06</td>\n",
       "      <td>12:00-13:00</td>\n",
       "      <td>90</td>\n",
       "      <td>Classroom</td>\n",
       "      <td>29</td>\n",
       "    </tr>\n",
       "    <tr>\n",
       "      <th>4</th>\n",
       "      <td>B002</td>\n",
       "      <td>2015-11-09 09:00:00</td>\n",
       "      <td>COMP30190</td>\n",
       "      <td>Monday</td>\n",
       "      <td>2015-11-09</td>\n",
       "      <td>09:00-10:00</td>\n",
       "      <td>90</td>\n",
       "      <td>Classroom</td>\n",
       "      <td>29</td>\n",
       "    </tr>\n",
       "  </tbody>\n",
       "</table>\n",
       "</div>"
      ],
      "text/plain": [
       "   Room           timestamp     Module    Weekday        Date         Time  \\\n",
       "0  B002 2015-11-02 09:00:00  COMP30190     Monday  2015-11-02  09:00-10:00   \n",
       "1  B002 2015-11-04 09:00:00  COMP30190  Wednesday  2015-11-04  09:00-10:00   \n",
       "2  B002 2015-11-06 11:00:00  COMP30190     Friday  2015-11-06  11:00-12:00   \n",
       "3  B002 2015-11-06 12:00:00  COMP30190     Friday  2015-11-06  12:00-13:00   \n",
       "4  B002 2015-11-09 09:00:00  COMP30190     Monday  2015-11-09  09:00-10:00   \n",
       "\n",
       "   Capacity  Room_Type  students  \n",
       "0        90  Classroom        29  \n",
       "1        90  Classroom        29  \n",
       "2        90  Classroom        29  \n",
       "3        90  Classroom        29  \n",
       "4        90  Classroom        29  "
      ]
     },
     "execution_count": 65,
     "metadata": {},
     "output_type": "execute_result"
    }
   ],
   "source": [
    "result1.head()"
   ]
  },
  {
   "cell_type": "markdown",
   "metadata": {},
   "source": [
    "#### Merging table output_data with groune and result tables on the same columns name - Room, Date, Time "
   ]
  },
  {
   "cell_type": "code",
   "execution_count": 66,
   "metadata": {
    "collapsed": true
   },
   "outputs": [],
   "source": [
    "result2 = output_data.merge(ground,on=['Room','Weekday','Date','Time']).merge(result1,on=['Room','Weekday','Date','Time'])"
   ]
  },
  {
   "cell_type": "code",
   "execution_count": 67,
   "metadata": {
    "collapsed": false
   },
   "outputs": [
    {
     "data": {
      "text/plain": [
       "(218, 15)"
      ]
     },
     "execution_count": 67,
     "metadata": {},
     "output_type": "execute_result"
    }
   ],
   "source": [
    "result2.shape"
   ]
  },
  {
   "cell_type": "code",
   "execution_count": 68,
   "metadata": {
    "collapsed": false
   },
   "outputs": [
    {
     "data": {
      "text/html": [
       "<div>\n",
       "<table border=\"1\" class=\"dataframe\">\n",
       "  <thead>\n",
       "    <tr style=\"text-align: right;\">\n",
       "      <th></th>\n",
       "      <th>Room</th>\n",
       "      <th>Weekday</th>\n",
       "      <th>Date</th>\n",
       "      <th>Time</th>\n",
       "      <th>Assoc</th>\n",
       "      <th>Auth</th>\n",
       "      <th>over_3</th>\n",
       "      <th>perc_occupied</th>\n",
       "      <th>survey_id</th>\n",
       "      <th>timestamp_x</th>\n",
       "      <th>timestamp_y</th>\n",
       "      <th>Module</th>\n",
       "      <th>Capacity</th>\n",
       "      <th>Room_Type</th>\n",
       "      <th>students</th>\n",
       "    </tr>\n",
       "  </thead>\n",
       "  <tbody>\n",
       "    <tr>\n",
       "      <th>0</th>\n",
       "      <td>B002</td>\n",
       "      <td>Friday</td>\n",
       "      <td>2015-11-13</td>\n",
       "      <td>09:00-10:00</td>\n",
       "      <td>9</td>\n",
       "      <td>9</td>\n",
       "      <td>0</td>\n",
       "      <td>0</td>\n",
       "      <td>152</td>\n",
       "      <td>2015-11-13 09:00:00</td>\n",
       "      <td>2015-11-13 09:00:00</td>\n",
       "      <td>COMP30220</td>\n",
       "      <td>90</td>\n",
       "      <td>Classroom</td>\n",
       "      <td>38</td>\n",
       "    </tr>\n",
       "    <tr>\n",
       "      <th>1</th>\n",
       "      <td>B002</td>\n",
       "      <td>Friday</td>\n",
       "      <td>2015-11-13</td>\n",
       "      <td>10:00-11:00</td>\n",
       "      <td>17</td>\n",
       "      <td>17</td>\n",
       "      <td>0</td>\n",
       "      <td>0</td>\n",
       "      <td>153</td>\n",
       "      <td>2015-11-13 10:00:00</td>\n",
       "      <td>2015-11-13 10:00:00</td>\n",
       "      <td>empty</td>\n",
       "      <td>90</td>\n",
       "      <td>Classroom</td>\n",
       "      <td>NaN</td>\n",
       "    </tr>\n",
       "    <tr>\n",
       "      <th>2</th>\n",
       "      <td>B002</td>\n",
       "      <td>Friday</td>\n",
       "      <td>2015-11-13</td>\n",
       "      <td>11:00-12:00</td>\n",
       "      <td>19</td>\n",
       "      <td>19</td>\n",
       "      <td>0</td>\n",
       "      <td>0</td>\n",
       "      <td>154</td>\n",
       "      <td>2015-11-13 11:00:00</td>\n",
       "      <td>2015-11-13 11:00:00</td>\n",
       "      <td>COMP30190</td>\n",
       "      <td>90</td>\n",
       "      <td>Classroom</td>\n",
       "      <td>29</td>\n",
       "    </tr>\n",
       "    <tr>\n",
       "      <th>3</th>\n",
       "      <td>B002</td>\n",
       "      <td>Friday</td>\n",
       "      <td>2015-11-13</td>\n",
       "      <td>12:00-13:00</td>\n",
       "      <td>20</td>\n",
       "      <td>20</td>\n",
       "      <td>0</td>\n",
       "      <td>0</td>\n",
       "      <td>155</td>\n",
       "      <td>2015-11-13 12:00:00</td>\n",
       "      <td>2015-11-13 12:00:00</td>\n",
       "      <td>COMP30190</td>\n",
       "      <td>90</td>\n",
       "      <td>Classroom</td>\n",
       "      <td>29</td>\n",
       "    </tr>\n",
       "    <tr>\n",
       "      <th>4</th>\n",
       "      <td>B002</td>\n",
       "      <td>Friday</td>\n",
       "      <td>2015-11-13</td>\n",
       "      <td>13:00-14:00</td>\n",
       "      <td>16</td>\n",
       "      <td>16</td>\n",
       "      <td>0</td>\n",
       "      <td>0</td>\n",
       "      <td>156</td>\n",
       "      <td>2015-11-13 13:00:00</td>\n",
       "      <td>2015-11-13 13:00:00</td>\n",
       "      <td>COMP30170</td>\n",
       "      <td>90</td>\n",
       "      <td>Classroom</td>\n",
       "      <td>51</td>\n",
       "    </tr>\n",
       "  </tbody>\n",
       "</table>\n",
       "</div>"
      ],
      "text/plain": [
       "   Room Weekday        Date         Time  Assoc  Auth  over_3  perc_occupied  \\\n",
       "0  B002  Friday  2015-11-13  09:00-10:00      9     9       0              0   \n",
       "1  B002  Friday  2015-11-13  10:00-11:00     17    17       0              0   \n",
       "2  B002  Friday  2015-11-13  11:00-12:00     19    19       0              0   \n",
       "3  B002  Friday  2015-11-13  12:00-13:00     20    20       0              0   \n",
       "4  B002  Friday  2015-11-13  13:00-14:00     16    16       0              0   \n",
       "\n",
       "   survey_id         timestamp_x         timestamp_y     Module  Capacity  \\\n",
       "0        152 2015-11-13 09:00:00 2015-11-13 09:00:00  COMP30220        90   \n",
       "1        153 2015-11-13 10:00:00 2015-11-13 10:00:00      empty        90   \n",
       "2        154 2015-11-13 11:00:00 2015-11-13 11:00:00  COMP30190        90   \n",
       "3        155 2015-11-13 12:00:00 2015-11-13 12:00:00  COMP30190        90   \n",
       "4        156 2015-11-13 13:00:00 2015-11-13 13:00:00  COMP30170        90   \n",
       "\n",
       "   Room_Type  students  \n",
       "0  Classroom        38  \n",
       "1  Classroom       NaN  \n",
       "2  Classroom        29  \n",
       "3  Classroom        29  \n",
       "4  Classroom        51  "
      ]
     },
     "execution_count": 68,
     "metadata": {},
     "output_type": "execute_result"
    }
   ],
   "source": [
    "result2.head()"
   ]
  },
  {
   "cell_type": "code",
   "execution_count": 69,
   "metadata": {
    "collapsed": false
   },
   "outputs": [
    {
     "data": {
      "text/html": [
       "<div>\n",
       "<table border=\"1\" class=\"dataframe\">\n",
       "  <thead>\n",
       "    <tr style=\"text-align: right;\">\n",
       "      <th></th>\n",
       "      <th>Room</th>\n",
       "      <th>Weekday</th>\n",
       "      <th>Date</th>\n",
       "      <th>Time</th>\n",
       "      <th>Assoc</th>\n",
       "      <th>Auth</th>\n",
       "      <th>over_3</th>\n",
       "      <th>perc_occupied</th>\n",
       "      <th>Module</th>\n",
       "      <th>Capacity</th>\n",
       "      <th>Room_Type</th>\n",
       "      <th>students</th>\n",
       "    </tr>\n",
       "  </thead>\n",
       "  <tbody>\n",
       "    <tr>\n",
       "      <th>0</th>\n",
       "      <td>B002</td>\n",
       "      <td>Friday</td>\n",
       "      <td>2015-11-13</td>\n",
       "      <td>09:00-10:00</td>\n",
       "      <td>9</td>\n",
       "      <td>9</td>\n",
       "      <td>0</td>\n",
       "      <td>0</td>\n",
       "      <td>COMP30220</td>\n",
       "      <td>90</td>\n",
       "      <td>Classroom</td>\n",
       "      <td>38</td>\n",
       "    </tr>\n",
       "    <tr>\n",
       "      <th>1</th>\n",
       "      <td>B002</td>\n",
       "      <td>Friday</td>\n",
       "      <td>2015-11-13</td>\n",
       "      <td>10:00-11:00</td>\n",
       "      <td>17</td>\n",
       "      <td>17</td>\n",
       "      <td>0</td>\n",
       "      <td>0</td>\n",
       "      <td>empty</td>\n",
       "      <td>90</td>\n",
       "      <td>Classroom</td>\n",
       "      <td>NaN</td>\n",
       "    </tr>\n",
       "    <tr>\n",
       "      <th>2</th>\n",
       "      <td>B002</td>\n",
       "      <td>Friday</td>\n",
       "      <td>2015-11-13</td>\n",
       "      <td>11:00-12:00</td>\n",
       "      <td>19</td>\n",
       "      <td>19</td>\n",
       "      <td>0</td>\n",
       "      <td>0</td>\n",
       "      <td>COMP30190</td>\n",
       "      <td>90</td>\n",
       "      <td>Classroom</td>\n",
       "      <td>29</td>\n",
       "    </tr>\n",
       "    <tr>\n",
       "      <th>3</th>\n",
       "      <td>B002</td>\n",
       "      <td>Friday</td>\n",
       "      <td>2015-11-13</td>\n",
       "      <td>12:00-13:00</td>\n",
       "      <td>20</td>\n",
       "      <td>20</td>\n",
       "      <td>0</td>\n",
       "      <td>0</td>\n",
       "      <td>COMP30190</td>\n",
       "      <td>90</td>\n",
       "      <td>Classroom</td>\n",
       "      <td>29</td>\n",
       "    </tr>\n",
       "    <tr>\n",
       "      <th>4</th>\n",
       "      <td>B002</td>\n",
       "      <td>Friday</td>\n",
       "      <td>2015-11-13</td>\n",
       "      <td>13:00-14:00</td>\n",
       "      <td>16</td>\n",
       "      <td>16</td>\n",
       "      <td>0</td>\n",
       "      <td>0</td>\n",
       "      <td>COMP30170</td>\n",
       "      <td>90</td>\n",
       "      <td>Classroom</td>\n",
       "      <td>51</td>\n",
       "    </tr>\n",
       "  </tbody>\n",
       "</table>\n",
       "</div>"
      ],
      "text/plain": [
       "   Room Weekday        Date         Time  Assoc  Auth  over_3  perc_occupied  \\\n",
       "0  B002  Friday  2015-11-13  09:00-10:00      9     9       0              0   \n",
       "1  B002  Friday  2015-11-13  10:00-11:00     17    17       0              0   \n",
       "2  B002  Friday  2015-11-13  11:00-12:00     19    19       0              0   \n",
       "3  B002  Friday  2015-11-13  12:00-13:00     20    20       0              0   \n",
       "4  B002  Friday  2015-11-13  13:00-14:00     16    16       0              0   \n",
       "\n",
       "      Module  Capacity  Room_Type  students  \n",
       "0  COMP30220        90  Classroom        38  \n",
       "1      empty        90  Classroom       NaN  \n",
       "2  COMP30190        90  Classroom        29  \n",
       "3  COMP30190        90  Classroom        29  \n",
       "4  COMP30170        90  Classroom        51  "
      ]
     },
     "execution_count": 69,
     "metadata": {},
     "output_type": "execute_result"
    }
   ],
   "source": [
    "\n",
    "#dropping first column Unamed:0\n",
    "result2.drop(result2.columns[[8,9,10]], axis=1, inplace=True)\n",
    "result2.head()"
   ]
  },
  {
   "cell_type": "code",
   "execution_count": 70,
   "metadata": {
    "collapsed": false
   },
   "outputs": [
    {
     "data": {
      "text/plain": [
       "(218, 12)"
      ]
     },
     "execution_count": 70,
     "metadata": {},
     "output_type": "execute_result"
    }
   ],
   "source": [
    "result2.shape"
   ]
  },
  {
   "cell_type": "code",
   "execution_count": 71,
   "metadata": {
    "collapsed": false
   },
   "outputs": [
    {
     "data": {
      "text/plain": [
       "Room              0\n",
       "Weekday           0\n",
       "Date              0\n",
       "Time              0\n",
       "Assoc             0\n",
       "Auth              0\n",
       "over_3            0\n",
       "perc_occupied     0\n",
       "Module            0\n",
       "Capacity          0\n",
       "Room_Type         0\n",
       "students         59\n",
       "dtype: int64"
      ]
     },
     "execution_count": 71,
     "metadata": {},
     "output_type": "execute_result"
    }
   ],
   "source": [
    "#checking the number of missing data\n",
    "result2.isnull().sum()\n"
   ]
  },
  {
   "cell_type": "code",
   "execution_count": 73,
   "metadata": {
    "collapsed": false
   },
   "outputs": [
    {
     "data": {
      "text/plain": [
       "Room              object\n",
       "Weekday           object\n",
       "Date              object\n",
       "Time              object\n",
       "Assoc            float64\n",
       "Auth             float64\n",
       "over_3             int64\n",
       "perc_occupied      int64\n",
       "Module            object\n",
       "Capacity           int64\n",
       "Room_Type         object\n",
       "students         float64\n",
       "dtype: object"
      ]
     },
     "execution_count": 73,
     "metadata": {},
     "output_type": "execute_result"
    }
   ],
   "source": [
    "result2.dtypes"
   ]
  },
  {
   "cell_type": "code",
   "execution_count": 75,
   "metadata": {
    "collapsed": false
   },
   "outputs": [
    {
     "data": {
      "text/plain": [
       "Index(['Room', 'Weekday', 'Date', 'Time', 'Module', 'Room_Type'], dtype='object')"
      ]
     },
     "execution_count": 75,
     "metadata": {},
     "output_type": "execute_result"
    }
   ],
   "source": [
    "#Select all columns of type 'object'\n",
    "object_columns = result2.select_dtypes(['object']).columns\n",
    "object_columns"
   ]
  },
  {
   "cell_type": "code",
   "execution_count": 76,
   "metadata": {
    "collapsed": false
   },
   "outputs": [
    {
     "data": {
      "text/plain": [
       "Room             category\n",
       "Weekday          category\n",
       "Date             category\n",
       "Time             category\n",
       "Assoc             float64\n",
       "Auth              float64\n",
       "over_3              int64\n",
       "perc_occupied       int64\n",
       "Module           category\n",
       "Capacity            int64\n",
       "Room_Type        category\n",
       "students          float64\n",
       "dtype: object"
      ]
     },
     "execution_count": 76,
     "metadata": {},
     "output_type": "execute_result"
    }
   ],
   "source": [
    "#Convert selected columns to type 'category'\n",
    "for column in object_columns:\n",
    "    result2[column] = result2[column].astype('category')\n",
    "result2.dtypes"
   ]
  },
  {
   "cell_type": "code",
   "execution_count": 78,
   "metadata": {
    "collapsed": false
   },
   "outputs": [
    {
     "data": {
      "text/html": [
       "<div>\n",
       "<table border=\"1\" class=\"dataframe\">\n",
       "  <thead>\n",
       "    <tr style=\"text-align: right;\">\n",
       "      <th></th>\n",
       "      <th>count</th>\n",
       "      <th>unique</th>\n",
       "      <th>top</th>\n",
       "      <th>freq</th>\n",
       "    </tr>\n",
       "  </thead>\n",
       "  <tbody>\n",
       "    <tr>\n",
       "      <th>Room</th>\n",
       "      <td>218</td>\n",
       "      <td>3</td>\n",
       "      <td>B004</td>\n",
       "      <td>76</td>\n",
       "    </tr>\n",
       "    <tr>\n",
       "      <th>Weekday</th>\n",
       "      <td>218</td>\n",
       "      <td>5</td>\n",
       "      <td>Wednesday</td>\n",
       "      <td>50</td>\n",
       "    </tr>\n",
       "    <tr>\n",
       "      <th>Date</th>\n",
       "      <td>218</td>\n",
       "      <td>9</td>\n",
       "      <td>2015-11-11</td>\n",
       "      <td>25</td>\n",
       "    </tr>\n",
       "    <tr>\n",
       "      <th>Time</th>\n",
       "      <td>218</td>\n",
       "      <td>8</td>\n",
       "      <td>09:00-10:00</td>\n",
       "      <td>31</td>\n",
       "    </tr>\n",
       "    <tr>\n",
       "      <th>Module</th>\n",
       "      <td>218</td>\n",
       "      <td>34</td>\n",
       "      <td>empty</td>\n",
       "      <td>59</td>\n",
       "    </tr>\n",
       "    <tr>\n",
       "      <th>Room_Type</th>\n",
       "      <td>218</td>\n",
       "      <td>2</td>\n",
       "      <td>Classroom</td>\n",
       "      <td>142</td>\n",
       "    </tr>\n",
       "  </tbody>\n",
       "</table>\n",
       "</div>"
      ],
      "text/plain": [
       "          count unique          top freq\n",
       "Room        218      3         B004   76\n",
       "Weekday     218      5    Wednesday   50\n",
       "Date        218      9   2015-11-11   25\n",
       "Time        218      8  09:00-10:00   31\n",
       "Module      218     34        empty   59\n",
       "Room_Type   218      2    Classroom  142"
      ]
     },
     "execution_count": 78,
     "metadata": {},
     "output_type": "execute_result"
    }
   ],
   "source": [
    "#  Prepare a table with descriptive statistics for all the categorical features.\n",
    "categorical_features = result2.select_dtypes(['category']).describe().T\n",
    "categorical_features"
   ]
  },
  {
   "cell_type": "code",
   "execution_count": 80,
   "metadata": {
    "collapsed": false
   },
   "outputs": [
    {
     "data": {
      "text/html": [
       "<div>\n",
       "<table border=\"1\" class=\"dataframe\">\n",
       "  <thead>\n",
       "    <tr style=\"text-align: right;\">\n",
       "      <th></th>\n",
       "      <th>count</th>\n",
       "      <th>mean</th>\n",
       "      <th>std</th>\n",
       "      <th>min</th>\n",
       "      <th>25%</th>\n",
       "      <th>50%</th>\n",
       "      <th>75%</th>\n",
       "      <th>max</th>\n",
       "    </tr>\n",
       "  </thead>\n",
       "  <tbody>\n",
       "    <tr>\n",
       "      <th>Assoc</th>\n",
       "      <td>218</td>\n",
       "      <td>41.729358</td>\n",
       "      <td>34.189566</td>\n",
       "      <td>0</td>\n",
       "      <td>19</td>\n",
       "      <td>33</td>\n",
       "      <td>58.0</td>\n",
       "      <td>232</td>\n",
       "    </tr>\n",
       "    <tr>\n",
       "      <th>Auth</th>\n",
       "      <td>218</td>\n",
       "      <td>41.518349</td>\n",
       "      <td>34.036469</td>\n",
       "      <td>0</td>\n",
       "      <td>19</td>\n",
       "      <td>33</td>\n",
       "      <td>57.5</td>\n",
       "      <td>230</td>\n",
       "    </tr>\n",
       "    <tr>\n",
       "      <th>over_3</th>\n",
       "      <td>218</td>\n",
       "      <td>0.697248</td>\n",
       "      <td>0.460506</td>\n",
       "      <td>0</td>\n",
       "      <td>0</td>\n",
       "      <td>1</td>\n",
       "      <td>1.0</td>\n",
       "      <td>1</td>\n",
       "    </tr>\n",
       "    <tr>\n",
       "      <th>perc_occupied</th>\n",
       "      <td>218</td>\n",
       "      <td>25.802752</td>\n",
       "      <td>22.564247</td>\n",
       "      <td>0</td>\n",
       "      <td>0</td>\n",
       "      <td>25</td>\n",
       "      <td>50.0</td>\n",
       "      <td>100</td>\n",
       "    </tr>\n",
       "    <tr>\n",
       "      <th>Capacity</th>\n",
       "      <td>218</td>\n",
       "      <td>114.403670</td>\n",
       "      <td>33.434197</td>\n",
       "      <td>90</td>\n",
       "      <td>90</td>\n",
       "      <td>90</td>\n",
       "      <td>160.0</td>\n",
       "      <td>160</td>\n",
       "    </tr>\n",
       "    <tr>\n",
       "      <th>students</th>\n",
       "      <td>159</td>\n",
       "      <td>58.698113</td>\n",
       "      <td>42.014276</td>\n",
       "      <td>0</td>\n",
       "      <td>27</td>\n",
       "      <td>53</td>\n",
       "      <td>98.0</td>\n",
       "      <td>139</td>\n",
       "    </tr>\n",
       "  </tbody>\n",
       "</table>\n",
       "</div>"
      ],
      "text/plain": [
       "               count        mean        std  min  25%  50%    75%  max\n",
       "Assoc            218   41.729358  34.189566    0   19   33   58.0  232\n",
       "Auth             218   41.518349  34.036469    0   19   33   57.5  230\n",
       "over_3           218    0.697248   0.460506    0    0    1    1.0    1\n",
       "perc_occupied    218   25.802752  22.564247    0    0   25   50.0  100\n",
       "Capacity         218  114.403670  33.434197   90   90   90  160.0  160\n",
       "students         159   58.698113  42.014276    0   27   53   98.0  139"
      ]
     },
     "execution_count": 80,
     "metadata": {},
     "output_type": "execute_result"
    }
   ],
   "source": [
    "# Prepare a table with descriptive statistics for all the continuous features.\n",
    "# Descriptive stats for all the continuous features.\n",
    "continuous_features = result2.describe().T\n",
    "continuous_features"
   ]
  },
  {
   "cell_type": "code",
   "execution_count": null,
   "metadata": {
    "collapsed": false
   },
   "outputs": [],
   "source": [
    "#column student has 59 NAN value \n",
    "#this means that there is no modules during that time so there is no students registered to that modules\n",
    "#We can fill in any NAN\n",
    "#In the example below NAN was changed to number 0\n",
    "\n",
    "df = result2.fillna(0)\n",
    "df.head()"
   ]
  },
  {
   "cell_type": "code",
   "execution_count": null,
   "metadata": {
    "collapsed": false
   },
   "outputs": [],
   "source": [
    "df.isnull().sum()"
   ]
  },
  {
   "cell_type": "code",
   "execution_count": null,
   "metadata": {
    "collapsed": false
   },
   "outputs": [],
   "source": [
    "df.shape"
   ]
  },
  {
   "cell_type": "code",
   "execution_count": null,
   "metadata": {
    "collapsed": false
   },
   "outputs": [],
   "source": [
    "#checking if there is any row duplicated in dataframe\n",
    "df.duplicated().sum()"
   ]
  },
  {
   "cell_type": "code",
   "execution_count": null,
   "metadata": {
    "collapsed": false
   },
   "outputs": [],
   "source": [
    "df.head()"
   ]
  },
  {
   "cell_type": "code",
   "execution_count": null,
   "metadata": {
    "collapsed": false
   },
   "outputs": [],
   "source": [
    "#renaming columns name\n",
    "df = df.rename(columns = {'over_3':'Over_3', 'perc_occupied':'Target', 'Assoc':'Associated','Auth': 'Authenticated','students':'Students'})\n"
   ]
  },
  {
   "cell_type": "code",
   "execution_count": null,
   "metadata": {
    "collapsed": false
   },
   "outputs": [],
   "source": [
    "df.head()"
   ]
  },
  {
   "cell_type": "code",
   "execution_count": null,
   "metadata": {
    "collapsed": false
   },
   "outputs": [],
   "source": [
    "#putting columns in order\n",
    "df = df [['Weekday', 'Date', 'Time', 'Room', 'Room_Type', 'Capacity', 'Module','Students','Over_3', 'Associated','Authenticated', 'Target']]\n",
    "df.head()"
   ]
  },
  {
   "cell_type": "code",
   "execution_count": null,
   "metadata": {
    "collapsed": true
   },
   "outputs": [],
   "source": [
    "#saving clean table. That table can be used for data alaytics\n",
    "df.to_csv('table_ABT.csv')"
   ]
  },
  {
   "cell_type": "code",
   "execution_count": null,
   "metadata": {
    "collapsed": true
   },
   "outputs": [],
   "source": []
  }
 ],
 "metadata": {
  "kernelspec": {
   "display_name": "Python 3",
   "language": "python",
   "name": "python3"
  },
  "language_info": {
   "codemirror_mode": {
    "name": "ipython",
    "version": 3
   },
   "file_extension": ".py",
   "mimetype": "text/x-python",
   "name": "python",
   "nbconvert_exporter": "python",
   "pygments_lexer": "ipython3",
   "version": "3.5.1"
  }
 },
 "nbformat": 4,
 "nbformat_minor": 0
}
